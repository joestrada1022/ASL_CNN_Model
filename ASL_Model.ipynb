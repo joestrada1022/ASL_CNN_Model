{
  "nbformat": 4,
  "nbformat_minor": 0,
  "metadata": {
    "colab": {
      "provenance": [],
      "collapsed_sections": [
        "1rHPCVJO2dbp"
      ],
      "gpuType": "T4",
      "include_colab_link": true
    },
    "kernelspec": {
      "name": "python3",
      "display_name": "Python 3"
    },
    "language_info": {
      "name": "python"
    },
    "accelerator": "GPU"
  },
  "cells": [
    {
      "cell_type": "markdown",
      "metadata": {
        "id": "view-in-github",
        "colab_type": "text"
      },
      "source": [
        "<a href=\"https://colab.research.google.com/github/joestrada1022/ASL_CNN_Model/blob/main/ASL_Model.ipynb\" target=\"_parent\"><img src=\"https://colab.research.google.com/assets/colab-badge.svg\" alt=\"Open In Colab\"/></a>"
      ]
    },
    {
      "cell_type": "markdown",
      "source": [
        "# Project Goal:\n",
        "Our project goal is to use a **CNN** (Convolutional Neural Network) to predict the translations of **American Sign Language**.\n"
      ],
      "metadata": {
        "id": "ob8KZCprtZvu"
      }
    },
    {
      "cell_type": "markdown",
      "source": [
        "### Initialization (Run First)"
      ],
      "metadata": {
        "id": "1rHPCVJO2dbp"
      }
    },
    {
      "cell_type": "code",
      "execution_count": null,
      "metadata": {
        "id": "ottcpy4CJB1u",
        "outputId": "6c9cc28d-915f-457a-c889-6673643fe0ac",
        "colab": {
          "base_uri": "https://localhost:8080/"
        }
      },
      "outputs": [
        {
          "output_type": "stream",
          "name": "stdout",
          "text": [
            "Collecting mediapipe\n",
            "  Downloading mediapipe-0.10.14-cp310-cp310-manylinux_2_17_x86_64.manylinux2014_x86_64.whl (35.7 MB)\n",
            "\u001b[2K     \u001b[90m━━━━━━━━━━━━━━━━━━━━━━━━━━━━━━━━━━━━━━━━\u001b[0m \u001b[32m35.7/35.7 MB\u001b[0m \u001b[31m23.0 MB/s\u001b[0m eta \u001b[36m0:00:00\u001b[0m\n",
            "\u001b[?25hRequirement already satisfied: absl-py in /usr/local/lib/python3.10/dist-packages (from mediapipe) (1.4.0)\n",
            "Requirement already satisfied: attrs>=19.1.0 in /usr/local/lib/python3.10/dist-packages (from mediapipe) (23.2.0)\n",
            "Requirement already satisfied: flatbuffers>=2.0 in /usr/local/lib/python3.10/dist-packages (from mediapipe) (24.3.25)\n",
            "Requirement already satisfied: jax in /usr/local/lib/python3.10/dist-packages (from mediapipe) (0.4.26)\n",
            "Requirement already satisfied: jaxlib in /usr/local/lib/python3.10/dist-packages (from mediapipe) (0.4.26+cuda12.cudnn89)\n",
            "Requirement already satisfied: matplotlib in /usr/local/lib/python3.10/dist-packages (from mediapipe) (3.7.1)\n",
            "Requirement already satisfied: numpy in /usr/local/lib/python3.10/dist-packages (from mediapipe) (1.25.2)\n",
            "Requirement already satisfied: opencv-contrib-python in /usr/local/lib/python3.10/dist-packages (from mediapipe) (4.8.0.76)\n",
            "Collecting protobuf<5,>=4.25.3 (from mediapipe)\n",
            "  Downloading protobuf-4.25.3-cp37-abi3-manylinux2014_x86_64.whl (294 kB)\n",
            "\u001b[2K     \u001b[90m━━━━━━━━━━━━━━━━━━━━━━━━━━━━━━━━━━━━━━━━\u001b[0m \u001b[32m294.6/294.6 kB\u001b[0m \u001b[31m3.9 MB/s\u001b[0m eta \u001b[36m0:00:00\u001b[0m\n",
            "\u001b[?25hCollecting sounddevice>=0.4.4 (from mediapipe)\n",
            "  Downloading sounddevice-0.4.6-py3-none-any.whl (31 kB)\n",
            "Requirement already satisfied: CFFI>=1.0 in /usr/local/lib/python3.10/dist-packages (from sounddevice>=0.4.4->mediapipe) (1.16.0)\n",
            "Requirement already satisfied: ml-dtypes>=0.2.0 in /usr/local/lib/python3.10/dist-packages (from jax->mediapipe) (0.2.0)\n",
            "Requirement already satisfied: opt-einsum in /usr/local/lib/python3.10/dist-packages (from jax->mediapipe) (3.3.0)\n",
            "Requirement already satisfied: scipy>=1.9 in /usr/local/lib/python3.10/dist-packages (from jax->mediapipe) (1.11.4)\n",
            "Requirement already satisfied: contourpy>=1.0.1 in /usr/local/lib/python3.10/dist-packages (from matplotlib->mediapipe) (1.2.1)\n",
            "Requirement already satisfied: cycler>=0.10 in /usr/local/lib/python3.10/dist-packages (from matplotlib->mediapipe) (0.12.1)\n",
            "Requirement already satisfied: fonttools>=4.22.0 in /usr/local/lib/python3.10/dist-packages (from matplotlib->mediapipe) (4.51.0)\n",
            "Requirement already satisfied: kiwisolver>=1.0.1 in /usr/local/lib/python3.10/dist-packages (from matplotlib->mediapipe) (1.4.5)\n",
            "Requirement already satisfied: packaging>=20.0 in /usr/local/lib/python3.10/dist-packages (from matplotlib->mediapipe) (24.0)\n",
            "Requirement already satisfied: pillow>=6.2.0 in /usr/local/lib/python3.10/dist-packages (from matplotlib->mediapipe) (9.4.0)\n",
            "Requirement already satisfied: pyparsing>=2.3.1 in /usr/local/lib/python3.10/dist-packages (from matplotlib->mediapipe) (3.1.2)\n",
            "Requirement already satisfied: python-dateutil>=2.7 in /usr/local/lib/python3.10/dist-packages (from matplotlib->mediapipe) (2.8.2)\n",
            "Requirement already satisfied: pycparser in /usr/local/lib/python3.10/dist-packages (from CFFI>=1.0->sounddevice>=0.4.4->mediapipe) (2.22)\n",
            "Requirement already satisfied: six>=1.5 in /usr/local/lib/python3.10/dist-packages (from python-dateutil>=2.7->matplotlib->mediapipe) (1.16.0)\n",
            "Installing collected packages: protobuf, sounddevice, mediapipe\n",
            "  Attempting uninstall: protobuf\n",
            "    Found existing installation: protobuf 3.20.3\n",
            "    Uninstalling protobuf-3.20.3:\n",
            "      Successfully uninstalled protobuf-3.20.3\n",
            "\u001b[31mERROR: pip's dependency resolver does not currently take into account all the packages that are installed. This behaviour is the source of the following dependency conflicts.\n",
            "tensorflow-metadata 1.15.0 requires protobuf<4.21,>=3.20.3; python_version < \"3.11\", but you have protobuf 4.25.3 which is incompatible.\u001b[0m\u001b[31m\n",
            "\u001b[0mSuccessfully installed mediapipe-0.10.14 protobuf-4.25.3 sounddevice-0.4.6\n"
          ]
        }
      ],
      "source": [
        "!pip install mediapipe\n",
        "#Importing required libraries\n",
        "import pandas as pd\n",
        "import matplotlib.pyplot as plt\n",
        "import numpy as np\n",
        "import cv2, os, gdown\n",
        "from google.colab.patches import cv2_imshow #Makes the opencv image display compatible with Jupyter Notebook\n",
        "from pathlib import Path\n",
        "\n",
        "\n"
      ]
    },
    {
      "cell_type": "code",
      "source": [
        "import keras\n",
        "from keras.models import Sequential\n",
        "from keras.layers import Dense,Flatten,Conv2D,MaxPool2D,Dropout\n",
        "import matplotlib.pyplot as plt\n",
        "import seaborn as sns\n",
        "from sklearn.model_selection import train_test_split\n",
        "from tensorflow.keras.preprocessing.image import ImageDataGenerator\n",
        "from tensorflow.keras.models import save_model, load_model\n",
        "import tensorflow as tf\n",
        "from tensorflow.keras.preprocessing import image"
      ],
      "metadata": {
        "id": "F8BrQzPU2bQ6"
      },
      "execution_count": null,
      "outputs": []
    },
    {
      "cell_type": "code",
      "source": [
        "# import dependencies\n",
        "from IPython.display import display, Javascript, Image\n",
        "from google.colab.output import eval_js\n",
        "from base64 import b64decode, b64encode\n",
        "import cv2\n",
        "import numpy as np\n",
        "import PIL\n",
        "import io\n",
        "import html\n",
        "import time\n",
        "import mediapipe as mp\n",
        "from PIL import Image as PILImage"
      ],
      "metadata": {
        "id": "qkQINfkj9DLQ"
      },
      "execution_count": null,
      "outputs": []
    },
    {
      "cell_type": "markdown",
      "source": [
        "## Section 1: Dataset Discovery and Processing"
      ],
      "metadata": {
        "id": "60UtR13IMQUr"
      }
    },
    {
      "cell_type": "code",
      "source": [
        "#Loading the combined dataset\n",
        "input_filename = \"sign_mnist.csv\"\n",
        "\n",
        "# Replace 'file_id' with the ID of your file\n",
        "file_id = '1NcoMkiEMX3fpPQMcTqsqKSJ1TQczvsVS'\n",
        "if not os.path.isfile(input_filename):\n",
        "  # Downloading the file\n",
        "  gdown.download('https://drive.google.com/uc?id=' + file_id, input_filename, quiet=False)"
      ],
      "metadata": {
        "id": "lbOKexTiQzOp",
        "colab": {
          "base_uri": "https://localhost:8080/"
        },
        "outputId": "fef4221f-e875-4a92-b51d-cd6211f3f772"
      },
      "execution_count": null,
      "outputs": [
        {
          "output_type": "stream",
          "name": "stderr",
          "text": [
            "Downloading...\n",
            "From (original): https://drive.google.com/uc?id=1NcoMkiEMX3fpPQMcTqsqKSJ1TQczvsVS\n",
            "From (redirected): https://drive.google.com/uc?id=1NcoMkiEMX3fpPQMcTqsqKSJ1TQczvsVS&confirm=t&uuid=267930c7-7e56-4c0a-a48f-8547723de07f\n",
            "To: /content/sign_mnist.csv\n",
            "100%|██████████| 105M/105M [00:02<00:00, 46.2MB/s] \n"
          ]
        }
      ]
    },
    {
      "cell_type": "markdown",
      "source": [
        "### **Data Discovery**"
      ],
      "metadata": {
        "id": "scP7I5r36z9n"
      }
    },
    {
      "cell_type": "code",
      "source": [
        "dataset = pd.read_csv('sign_mnist.csv')\n",
        "\n",
        "print(\"First 5 values in the dataset:\\n\" , dataset.head())\n",
        "print(\"\\nLast 5 values in the dataset:\\n\" ,dataset.tail())\n",
        "print(\"\\nSummary of the data:\")\n",
        "print(dataset.info())\n",
        "print(\"\\nStatistical summary of the data:\\n\" ,dataset.describe())\n",
        "print(\"\\n Shape of the dataset:\", dataset.shape)"
      ],
      "metadata": {
        "id": "Eev23HqJYc_D",
        "colab": {
          "base_uri": "https://localhost:8080/"
        },
        "outputId": "6ce7c0fb-dce7-444f-8373-c3baf6c3e87b"
      },
      "execution_count": null,
      "outputs": [
        {
          "output_type": "stream",
          "name": "stdout",
          "text": [
            "First 5 values in the dataset:\n",
            "    label  pixel1  pixel2  pixel3  pixel4  pixel5  pixel6  pixel7  pixel8  \\\n",
            "0      3     107     118     127     134     139     143     146     150   \n",
            "1      6     155     157     156     156     156     157     156     158   \n",
            "2      2     187     188     188     187     187     186     187     188   \n",
            "3      2     211     211     212     212     211     210     211     210   \n",
            "4     13     164     167     170     172     176     179     180     184   \n",
            "\n",
            "   pixel9  ...  pixel775  pixel776  pixel777  pixel778  pixel779  pixel780  \\\n",
            "0     153  ...       207       207       207       207       206       206   \n",
            "1     158  ...        69       149       128        87        94       163   \n",
            "2     187  ...       202       201       200       199       198       199   \n",
            "3     210  ...       235       234       233       231       230       226   \n",
            "4     185  ...        92       105       105       108       133       163   \n",
            "\n",
            "   pixel781  pixel782  pixel783  pixel784  \n",
            "0       206       204       203       202  \n",
            "1       175       103       135       149  \n",
            "2       198       195       194       195  \n",
            "3       225       222       229       163  \n",
            "4       157       163       164       179  \n",
            "\n",
            "[5 rows x 785 columns]\n",
            "\n",
            "Last 5 values in the dataset:\n",
            "        label  pixel1  pixel2  pixel3  pixel4  pixel5  pixel6  pixel7  pixel8  \\\n",
            "34622      1     135     119     108     102     105      99      61     103   \n",
            "34623     12     157     159     161     164     166     166     171     174   \n",
            "34624      2     190     191     190     191     190     190     192     192   \n",
            "34625      4     201     205     208     209     214     216     218     223   \n",
            "34626      2     173     174     173     174     173     173     175     175   \n",
            "\n",
            "       pixel9  ...  pixel775  pixel776  pixel777  pixel778  pixel779  \\\n",
            "34622     121  ...       108       112       116       114       118   \n",
            "34623     175  ...       213       213       213       214       213   \n",
            "34624     191  ...       216       215       213       214       214   \n",
            "34625     226  ...       112       169       255       255       237   \n",
            "34626     174  ...       201       200       197       198       198   \n",
            "\n",
            "       pixel780  pixel781  pixel782  pixel783  pixel784  \n",
            "34622       180       184       176       167       163  \n",
            "34623       211       210       210       209       208  \n",
            "34624       213       210       211       209       208  \n",
            "34625       113        91        67        70        63  \n",
            "34626       197       195       195       193       192  \n",
            "\n",
            "[5 rows x 785 columns]\n",
            "\n",
            "Summary of the data:\n",
            "<class 'pandas.core.frame.DataFrame'>\n",
            "RangeIndex: 34627 entries, 0 to 34626\n",
            "Columns: 785 entries, label to pixel784\n",
            "dtypes: int64(785)\n",
            "memory usage: 207.4 MB\n",
            "None\n",
            "\n",
            "Statistical summary of the data:\n",
            "               label        pixel1        pixel2        pixel3        pixel4  \\\n",
            "count  34627.000000  34627.000000  34627.000000  34627.000000  34627.000000   \n",
            "mean      12.096890    145.857077    148.903226    151.677824    153.984983   \n",
            "std        7.333559     41.839313     40.355637     39.355866     38.762706   \n",
            "min        0.000000      0.000000      0.000000      0.000000      0.000000   \n",
            "25%        5.000000    122.000000    126.000000    130.000000    133.000000   \n",
            "50%       12.000000    151.000000    154.000000    156.000000    158.000000   \n",
            "75%       18.000000    175.000000    177.000000    179.000000    180.000000   \n",
            "max       24.000000    255.000000    255.000000    255.000000    255.000000   \n",
            "\n",
            "             pixel5        pixel6        pixel7        pixel8        pixel9  \\\n",
            "count  34627.000000  34627.000000  34627.000000  34627.000000  34627.000000   \n",
            "mean     156.616600    158.904121    160.847171    162.610911    164.293384   \n",
            "std       37.252215     36.130753     35.274594     34.137995     32.882325   \n",
            "min        0.000000      0.000000      0.000000      0.000000      0.000000   \n",
            "25%      137.000000    140.000000    143.000000    145.000000    146.000000   \n",
            "50%      160.000000    163.000000    164.000000    166.000000    167.000000   \n",
            "75%      181.000000    182.000000    184.000000    185.000000    185.000000   \n",
            "max      255.000000    255.000000    255.000000    255.000000    255.000000   \n",
            "\n",
            "       ...      pixel775      pixel776      pixel777      pixel778  \\\n",
            "count  ...  34627.000000  34627.000000  34627.000000  34627.000000   \n",
            "mean   ...    140.574985    147.090479    152.791261    158.403211   \n",
            "std    ...     63.914830     65.438124     64.713282     64.112086   \n",
            "min    ...      0.000000      0.000000      0.000000      0.000000   \n",
            "25%    ...     91.500000     96.000000    102.000000    110.000000   \n",
            "50%    ...    142.000000    161.000000    172.000000    179.000000   \n",
            "75%    ...    196.000000    202.000000    205.000000    207.000000   \n",
            "max    ...    255.000000    255.000000    255.000000    255.000000   \n",
            "\n",
            "           pixel779      pixel780      pixel781      pixel782      pixel783  \\\n",
            "count  34627.000000  34627.000000  34627.000000  34627.000000  34627.000000   \n",
            "mean     161.332140    162.097063    161.923528    161.077136    160.211309   \n",
            "std       64.055046     63.886450     64.166570     63.892399     64.395504   \n",
            "min        0.000000      0.000000      0.000000      0.000000      0.000000   \n",
            "25%      118.000000    122.000000    124.000000    124.000000    124.000000   \n",
            "50%      183.000000    183.000000    183.000000    182.000000    182.000000   \n",
            "75%      208.000000    207.000000    207.000000    206.000000    205.000000   \n",
            "max      255.000000    255.000000    255.000000    255.000000    255.000000   \n",
            "\n",
            "          pixel784  \n",
            "count  34627.00000  \n",
            "mean     158.77919  \n",
            "std       65.25230  \n",
            "min        0.00000  \n",
            "25%      121.00000  \n",
            "50%      181.00000  \n",
            "75%      204.00000  \n",
            "max      255.00000  \n",
            "\n",
            "[8 rows x 785 columns]\n",
            "\n",
            " Shape of the dataset: (34627, 785)\n"
          ]
        }
      ]
    },
    {
      "cell_type": "markdown",
      "source": [
        "### **Handling Missing values in the dataset**"
      ],
      "metadata": {
        "id": "D0sx-ZAw7ehs"
      }
    },
    {
      "cell_type": "code",
      "source": [
        "#NaN values in the dataset ?\n",
        "nan = dataset.isnull().sum()\n",
        "print(nan[nan != 0])"
      ],
      "metadata": {
        "id": "yr7sauaIYxSq",
        "colab": {
          "base_uri": "https://localhost:8080/"
        },
        "outputId": "790de47b-db4c-4336-b399-08354feb156a"
      },
      "execution_count": null,
      "outputs": [
        {
          "output_type": "stream",
          "name": "stdout",
          "text": [
            "Series([], dtype: int64)\n"
          ]
        }
      ]
    },
    {
      "cell_type": "markdown",
      "source": [
        "### **Analysing the dataset**"
      ],
      "metadata": {
        "id": "VlCt4dr58tgU"
      }
    },
    {
      "cell_type": "code",
      "source": [
        "#Analyse the pixels intensity values\n",
        "subset_pixels = dataset.iloc[:, 1:] #Removes labels\n",
        "subset_pixels.describe()"
      ],
      "metadata": {
        "id": "UtGSIfdmZ42g",
        "colab": {
          "base_uri": "https://localhost:8080/",
          "height": 350
        },
        "outputId": "05e802d8-bfc9-4ee8-c5c5-05693b0375f8"
      },
      "execution_count": null,
      "outputs": [
        {
          "output_type": "execute_result",
          "data": {
            "text/plain": [
              "             pixel1        pixel2        pixel3        pixel4        pixel5  \\\n",
              "count  34627.000000  34627.000000  34627.000000  34627.000000  34627.000000   \n",
              "mean     145.857077    148.903226    151.677824    153.984983    156.616600   \n",
              "std       41.839313     40.355637     39.355866     38.762706     37.252215   \n",
              "min        0.000000      0.000000      0.000000      0.000000      0.000000   \n",
              "25%      122.000000    126.000000    130.000000    133.000000    137.000000   \n",
              "50%      151.000000    154.000000    156.000000    158.000000    160.000000   \n",
              "75%      175.000000    177.000000    179.000000    180.000000    181.000000   \n",
              "max      255.000000    255.000000    255.000000    255.000000    255.000000   \n",
              "\n",
              "             pixel6        pixel7        pixel8        pixel9       pixel10  \\\n",
              "count  34627.000000  34627.000000  34627.000000  34627.000000  34627.000000   \n",
              "mean     158.904121    160.847171    162.610911    164.293384    165.901868   \n",
              "std       36.130753     35.274594     34.137995     32.882325     31.514255   \n",
              "min        0.000000      0.000000      0.000000      0.000000      0.000000   \n",
              "25%      140.000000    143.000000    145.000000    146.000000    148.000000   \n",
              "50%      163.000000    164.000000    166.000000    167.000000    168.000000   \n",
              "75%      182.000000    184.000000    185.000000    185.000000    186.000000   \n",
              "max      255.000000    255.000000    255.000000    255.000000    255.000000   \n",
              "\n",
              "       ...      pixel775      pixel776      pixel777      pixel778  \\\n",
              "count  ...  34627.000000  34627.000000  34627.000000  34627.000000   \n",
              "mean   ...    140.574985    147.090479    152.791261    158.403211   \n",
              "std    ...     63.914830     65.438124     64.713282     64.112086   \n",
              "min    ...      0.000000      0.000000      0.000000      0.000000   \n",
              "25%    ...     91.500000     96.000000    102.000000    110.000000   \n",
              "50%    ...    142.000000    161.000000    172.000000    179.000000   \n",
              "75%    ...    196.000000    202.000000    205.000000    207.000000   \n",
              "max    ...    255.000000    255.000000    255.000000    255.000000   \n",
              "\n",
              "           pixel779      pixel780      pixel781      pixel782      pixel783  \\\n",
              "count  34627.000000  34627.000000  34627.000000  34627.000000  34627.000000   \n",
              "mean     161.332140    162.097063    161.923528    161.077136    160.211309   \n",
              "std       64.055046     63.886450     64.166570     63.892399     64.395504   \n",
              "min        0.000000      0.000000      0.000000      0.000000      0.000000   \n",
              "25%      118.000000    122.000000    124.000000    124.000000    124.000000   \n",
              "50%      183.000000    183.000000    183.000000    182.000000    182.000000   \n",
              "75%      208.000000    207.000000    207.000000    206.000000    205.000000   \n",
              "max      255.000000    255.000000    255.000000    255.000000    255.000000   \n",
              "\n",
              "          pixel784  \n",
              "count  34627.00000  \n",
              "mean     158.77919  \n",
              "std       65.25230  \n",
              "min        0.00000  \n",
              "25%      121.00000  \n",
              "50%      181.00000  \n",
              "75%      204.00000  \n",
              "max      255.00000  \n",
              "\n",
              "[8 rows x 784 columns]"
            ],
            "text/html": [
              "\n",
              "  <div id=\"df-08f10560-29e9-47ad-ac56-47a45ba27e9a\" class=\"colab-df-container\">\n",
              "    <div>\n",
              "<style scoped>\n",
              "    .dataframe tbody tr th:only-of-type {\n",
              "        vertical-align: middle;\n",
              "    }\n",
              "\n",
              "    .dataframe tbody tr th {\n",
              "        vertical-align: top;\n",
              "    }\n",
              "\n",
              "    .dataframe thead th {\n",
              "        text-align: right;\n",
              "    }\n",
              "</style>\n",
              "<table border=\"1\" class=\"dataframe\">\n",
              "  <thead>\n",
              "    <tr style=\"text-align: right;\">\n",
              "      <th></th>\n",
              "      <th>pixel1</th>\n",
              "      <th>pixel2</th>\n",
              "      <th>pixel3</th>\n",
              "      <th>pixel4</th>\n",
              "      <th>pixel5</th>\n",
              "      <th>pixel6</th>\n",
              "      <th>pixel7</th>\n",
              "      <th>pixel8</th>\n",
              "      <th>pixel9</th>\n",
              "      <th>pixel10</th>\n",
              "      <th>...</th>\n",
              "      <th>pixel775</th>\n",
              "      <th>pixel776</th>\n",
              "      <th>pixel777</th>\n",
              "      <th>pixel778</th>\n",
              "      <th>pixel779</th>\n",
              "      <th>pixel780</th>\n",
              "      <th>pixel781</th>\n",
              "      <th>pixel782</th>\n",
              "      <th>pixel783</th>\n",
              "      <th>pixel784</th>\n",
              "    </tr>\n",
              "  </thead>\n",
              "  <tbody>\n",
              "    <tr>\n",
              "      <th>count</th>\n",
              "      <td>34627.000000</td>\n",
              "      <td>34627.000000</td>\n",
              "      <td>34627.000000</td>\n",
              "      <td>34627.000000</td>\n",
              "      <td>34627.000000</td>\n",
              "      <td>34627.000000</td>\n",
              "      <td>34627.000000</td>\n",
              "      <td>34627.000000</td>\n",
              "      <td>34627.000000</td>\n",
              "      <td>34627.000000</td>\n",
              "      <td>...</td>\n",
              "      <td>34627.000000</td>\n",
              "      <td>34627.000000</td>\n",
              "      <td>34627.000000</td>\n",
              "      <td>34627.000000</td>\n",
              "      <td>34627.000000</td>\n",
              "      <td>34627.000000</td>\n",
              "      <td>34627.000000</td>\n",
              "      <td>34627.000000</td>\n",
              "      <td>34627.000000</td>\n",
              "      <td>34627.00000</td>\n",
              "    </tr>\n",
              "    <tr>\n",
              "      <th>mean</th>\n",
              "      <td>145.857077</td>\n",
              "      <td>148.903226</td>\n",
              "      <td>151.677824</td>\n",
              "      <td>153.984983</td>\n",
              "      <td>156.616600</td>\n",
              "      <td>158.904121</td>\n",
              "      <td>160.847171</td>\n",
              "      <td>162.610911</td>\n",
              "      <td>164.293384</td>\n",
              "      <td>165.901868</td>\n",
              "      <td>...</td>\n",
              "      <td>140.574985</td>\n",
              "      <td>147.090479</td>\n",
              "      <td>152.791261</td>\n",
              "      <td>158.403211</td>\n",
              "      <td>161.332140</td>\n",
              "      <td>162.097063</td>\n",
              "      <td>161.923528</td>\n",
              "      <td>161.077136</td>\n",
              "      <td>160.211309</td>\n",
              "      <td>158.77919</td>\n",
              "    </tr>\n",
              "    <tr>\n",
              "      <th>std</th>\n",
              "      <td>41.839313</td>\n",
              "      <td>40.355637</td>\n",
              "      <td>39.355866</td>\n",
              "      <td>38.762706</td>\n",
              "      <td>37.252215</td>\n",
              "      <td>36.130753</td>\n",
              "      <td>35.274594</td>\n",
              "      <td>34.137995</td>\n",
              "      <td>32.882325</td>\n",
              "      <td>31.514255</td>\n",
              "      <td>...</td>\n",
              "      <td>63.914830</td>\n",
              "      <td>65.438124</td>\n",
              "      <td>64.713282</td>\n",
              "      <td>64.112086</td>\n",
              "      <td>64.055046</td>\n",
              "      <td>63.886450</td>\n",
              "      <td>64.166570</td>\n",
              "      <td>63.892399</td>\n",
              "      <td>64.395504</td>\n",
              "      <td>65.25230</td>\n",
              "    </tr>\n",
              "    <tr>\n",
              "      <th>min</th>\n",
              "      <td>0.000000</td>\n",
              "      <td>0.000000</td>\n",
              "      <td>0.000000</td>\n",
              "      <td>0.000000</td>\n",
              "      <td>0.000000</td>\n",
              "      <td>0.000000</td>\n",
              "      <td>0.000000</td>\n",
              "      <td>0.000000</td>\n",
              "      <td>0.000000</td>\n",
              "      <td>0.000000</td>\n",
              "      <td>...</td>\n",
              "      <td>0.000000</td>\n",
              "      <td>0.000000</td>\n",
              "      <td>0.000000</td>\n",
              "      <td>0.000000</td>\n",
              "      <td>0.000000</td>\n",
              "      <td>0.000000</td>\n",
              "      <td>0.000000</td>\n",
              "      <td>0.000000</td>\n",
              "      <td>0.000000</td>\n",
              "      <td>0.00000</td>\n",
              "    </tr>\n",
              "    <tr>\n",
              "      <th>25%</th>\n",
              "      <td>122.000000</td>\n",
              "      <td>126.000000</td>\n",
              "      <td>130.000000</td>\n",
              "      <td>133.000000</td>\n",
              "      <td>137.000000</td>\n",
              "      <td>140.000000</td>\n",
              "      <td>143.000000</td>\n",
              "      <td>145.000000</td>\n",
              "      <td>146.000000</td>\n",
              "      <td>148.000000</td>\n",
              "      <td>...</td>\n",
              "      <td>91.500000</td>\n",
              "      <td>96.000000</td>\n",
              "      <td>102.000000</td>\n",
              "      <td>110.000000</td>\n",
              "      <td>118.000000</td>\n",
              "      <td>122.000000</td>\n",
              "      <td>124.000000</td>\n",
              "      <td>124.000000</td>\n",
              "      <td>124.000000</td>\n",
              "      <td>121.00000</td>\n",
              "    </tr>\n",
              "    <tr>\n",
              "      <th>50%</th>\n",
              "      <td>151.000000</td>\n",
              "      <td>154.000000</td>\n",
              "      <td>156.000000</td>\n",
              "      <td>158.000000</td>\n",
              "      <td>160.000000</td>\n",
              "      <td>163.000000</td>\n",
              "      <td>164.000000</td>\n",
              "      <td>166.000000</td>\n",
              "      <td>167.000000</td>\n",
              "      <td>168.000000</td>\n",
              "      <td>...</td>\n",
              "      <td>142.000000</td>\n",
              "      <td>161.000000</td>\n",
              "      <td>172.000000</td>\n",
              "      <td>179.000000</td>\n",
              "      <td>183.000000</td>\n",
              "      <td>183.000000</td>\n",
              "      <td>183.000000</td>\n",
              "      <td>182.000000</td>\n",
              "      <td>182.000000</td>\n",
              "      <td>181.00000</td>\n",
              "    </tr>\n",
              "    <tr>\n",
              "      <th>75%</th>\n",
              "      <td>175.000000</td>\n",
              "      <td>177.000000</td>\n",
              "      <td>179.000000</td>\n",
              "      <td>180.000000</td>\n",
              "      <td>181.000000</td>\n",
              "      <td>182.000000</td>\n",
              "      <td>184.000000</td>\n",
              "      <td>185.000000</td>\n",
              "      <td>185.000000</td>\n",
              "      <td>186.000000</td>\n",
              "      <td>...</td>\n",
              "      <td>196.000000</td>\n",
              "      <td>202.000000</td>\n",
              "      <td>205.000000</td>\n",
              "      <td>207.000000</td>\n",
              "      <td>208.000000</td>\n",
              "      <td>207.000000</td>\n",
              "      <td>207.000000</td>\n",
              "      <td>206.000000</td>\n",
              "      <td>205.000000</td>\n",
              "      <td>204.00000</td>\n",
              "    </tr>\n",
              "    <tr>\n",
              "      <th>max</th>\n",
              "      <td>255.000000</td>\n",
              "      <td>255.000000</td>\n",
              "      <td>255.000000</td>\n",
              "      <td>255.000000</td>\n",
              "      <td>255.000000</td>\n",
              "      <td>255.000000</td>\n",
              "      <td>255.000000</td>\n",
              "      <td>255.000000</td>\n",
              "      <td>255.000000</td>\n",
              "      <td>255.000000</td>\n",
              "      <td>...</td>\n",
              "      <td>255.000000</td>\n",
              "      <td>255.000000</td>\n",
              "      <td>255.000000</td>\n",
              "      <td>255.000000</td>\n",
              "      <td>255.000000</td>\n",
              "      <td>255.000000</td>\n",
              "      <td>255.000000</td>\n",
              "      <td>255.000000</td>\n",
              "      <td>255.000000</td>\n",
              "      <td>255.00000</td>\n",
              "    </tr>\n",
              "  </tbody>\n",
              "</table>\n",
              "<p>8 rows × 784 columns</p>\n",
              "</div>\n",
              "    <div class=\"colab-df-buttons\">\n",
              "\n",
              "  <div class=\"colab-df-container\">\n",
              "    <button class=\"colab-df-convert\" onclick=\"convertToInteractive('df-08f10560-29e9-47ad-ac56-47a45ba27e9a')\"\n",
              "            title=\"Convert this dataframe to an interactive table.\"\n",
              "            style=\"display:none;\">\n",
              "\n",
              "  <svg xmlns=\"http://www.w3.org/2000/svg\" height=\"24px\" viewBox=\"0 -960 960 960\">\n",
              "    <path d=\"M120-120v-720h720v720H120Zm60-500h600v-160H180v160Zm220 220h160v-160H400v160Zm0 220h160v-160H400v160ZM180-400h160v-160H180v160Zm440 0h160v-160H620v160ZM180-180h160v-160H180v160Zm440 0h160v-160H620v160Z\"/>\n",
              "  </svg>\n",
              "    </button>\n",
              "\n",
              "  <style>\n",
              "    .colab-df-container {\n",
              "      display:flex;\n",
              "      gap: 12px;\n",
              "    }\n",
              "\n",
              "    .colab-df-convert {\n",
              "      background-color: #E8F0FE;\n",
              "      border: none;\n",
              "      border-radius: 50%;\n",
              "      cursor: pointer;\n",
              "      display: none;\n",
              "      fill: #1967D2;\n",
              "      height: 32px;\n",
              "      padding: 0 0 0 0;\n",
              "      width: 32px;\n",
              "    }\n",
              "\n",
              "    .colab-df-convert:hover {\n",
              "      background-color: #E2EBFA;\n",
              "      box-shadow: 0px 1px 2px rgba(60, 64, 67, 0.3), 0px 1px 3px 1px rgba(60, 64, 67, 0.15);\n",
              "      fill: #174EA6;\n",
              "    }\n",
              "\n",
              "    .colab-df-buttons div {\n",
              "      margin-bottom: 4px;\n",
              "    }\n",
              "\n",
              "    [theme=dark] .colab-df-convert {\n",
              "      background-color: #3B4455;\n",
              "      fill: #D2E3FC;\n",
              "    }\n",
              "\n",
              "    [theme=dark] .colab-df-convert:hover {\n",
              "      background-color: #434B5C;\n",
              "      box-shadow: 0px 1px 3px 1px rgba(0, 0, 0, 0.15);\n",
              "      filter: drop-shadow(0px 1px 2px rgba(0, 0, 0, 0.3));\n",
              "      fill: #FFFFFF;\n",
              "    }\n",
              "  </style>\n",
              "\n",
              "    <script>\n",
              "      const buttonEl =\n",
              "        document.querySelector('#df-08f10560-29e9-47ad-ac56-47a45ba27e9a button.colab-df-convert');\n",
              "      buttonEl.style.display =\n",
              "        google.colab.kernel.accessAllowed ? 'block' : 'none';\n",
              "\n",
              "      async function convertToInteractive(key) {\n",
              "        const element = document.querySelector('#df-08f10560-29e9-47ad-ac56-47a45ba27e9a');\n",
              "        const dataTable =\n",
              "          await google.colab.kernel.invokeFunction('convertToInteractive',\n",
              "                                                    [key], {});\n",
              "        if (!dataTable) return;\n",
              "\n",
              "        const docLinkHtml = 'Like what you see? Visit the ' +\n",
              "          '<a target=\"_blank\" href=https://colab.research.google.com/notebooks/data_table.ipynb>data table notebook</a>'\n",
              "          + ' to learn more about interactive tables.';\n",
              "        element.innerHTML = '';\n",
              "        dataTable['output_type'] = 'display_data';\n",
              "        await google.colab.output.renderOutput(dataTable, element);\n",
              "        const docLink = document.createElement('div');\n",
              "        docLink.innerHTML = docLinkHtml;\n",
              "        element.appendChild(docLink);\n",
              "      }\n",
              "    </script>\n",
              "  </div>\n",
              "\n",
              "\n",
              "<div id=\"df-64a7cc1e-7508-421b-93e9-8141066c8e0b\">\n",
              "  <button class=\"colab-df-quickchart\" onclick=\"quickchart('df-64a7cc1e-7508-421b-93e9-8141066c8e0b')\"\n",
              "            title=\"Suggest charts\"\n",
              "            style=\"display:none;\">\n",
              "\n",
              "<svg xmlns=\"http://www.w3.org/2000/svg\" height=\"24px\"viewBox=\"0 0 24 24\"\n",
              "     width=\"24px\">\n",
              "    <g>\n",
              "        <path d=\"M19 3H5c-1.1 0-2 .9-2 2v14c0 1.1.9 2 2 2h14c1.1 0 2-.9 2-2V5c0-1.1-.9-2-2-2zM9 17H7v-7h2v7zm4 0h-2V7h2v10zm4 0h-2v-4h2v4z\"/>\n",
              "    </g>\n",
              "</svg>\n",
              "  </button>\n",
              "\n",
              "<style>\n",
              "  .colab-df-quickchart {\n",
              "      --bg-color: #E8F0FE;\n",
              "      --fill-color: #1967D2;\n",
              "      --hover-bg-color: #E2EBFA;\n",
              "      --hover-fill-color: #174EA6;\n",
              "      --disabled-fill-color: #AAA;\n",
              "      --disabled-bg-color: #DDD;\n",
              "  }\n",
              "\n",
              "  [theme=dark] .colab-df-quickchart {\n",
              "      --bg-color: #3B4455;\n",
              "      --fill-color: #D2E3FC;\n",
              "      --hover-bg-color: #434B5C;\n",
              "      --hover-fill-color: #FFFFFF;\n",
              "      --disabled-bg-color: #3B4455;\n",
              "      --disabled-fill-color: #666;\n",
              "  }\n",
              "\n",
              "  .colab-df-quickchart {\n",
              "    background-color: var(--bg-color);\n",
              "    border: none;\n",
              "    border-radius: 50%;\n",
              "    cursor: pointer;\n",
              "    display: none;\n",
              "    fill: var(--fill-color);\n",
              "    height: 32px;\n",
              "    padding: 0;\n",
              "    width: 32px;\n",
              "  }\n",
              "\n",
              "  .colab-df-quickchart:hover {\n",
              "    background-color: var(--hover-bg-color);\n",
              "    box-shadow: 0 1px 2px rgba(60, 64, 67, 0.3), 0 1px 3px 1px rgba(60, 64, 67, 0.15);\n",
              "    fill: var(--button-hover-fill-color);\n",
              "  }\n",
              "\n",
              "  .colab-df-quickchart-complete:disabled,\n",
              "  .colab-df-quickchart-complete:disabled:hover {\n",
              "    background-color: var(--disabled-bg-color);\n",
              "    fill: var(--disabled-fill-color);\n",
              "    box-shadow: none;\n",
              "  }\n",
              "\n",
              "  .colab-df-spinner {\n",
              "    border: 2px solid var(--fill-color);\n",
              "    border-color: transparent;\n",
              "    border-bottom-color: var(--fill-color);\n",
              "    animation:\n",
              "      spin 1s steps(1) infinite;\n",
              "  }\n",
              "\n",
              "  @keyframes spin {\n",
              "    0% {\n",
              "      border-color: transparent;\n",
              "      border-bottom-color: var(--fill-color);\n",
              "      border-left-color: var(--fill-color);\n",
              "    }\n",
              "    20% {\n",
              "      border-color: transparent;\n",
              "      border-left-color: var(--fill-color);\n",
              "      border-top-color: var(--fill-color);\n",
              "    }\n",
              "    30% {\n",
              "      border-color: transparent;\n",
              "      border-left-color: var(--fill-color);\n",
              "      border-top-color: var(--fill-color);\n",
              "      border-right-color: var(--fill-color);\n",
              "    }\n",
              "    40% {\n",
              "      border-color: transparent;\n",
              "      border-right-color: var(--fill-color);\n",
              "      border-top-color: var(--fill-color);\n",
              "    }\n",
              "    60% {\n",
              "      border-color: transparent;\n",
              "      border-right-color: var(--fill-color);\n",
              "    }\n",
              "    80% {\n",
              "      border-color: transparent;\n",
              "      border-right-color: var(--fill-color);\n",
              "      border-bottom-color: var(--fill-color);\n",
              "    }\n",
              "    90% {\n",
              "      border-color: transparent;\n",
              "      border-bottom-color: var(--fill-color);\n",
              "    }\n",
              "  }\n",
              "</style>\n",
              "\n",
              "  <script>\n",
              "    async function quickchart(key) {\n",
              "      const quickchartButtonEl =\n",
              "        document.querySelector('#' + key + ' button');\n",
              "      quickchartButtonEl.disabled = true;  // To prevent multiple clicks.\n",
              "      quickchartButtonEl.classList.add('colab-df-spinner');\n",
              "      try {\n",
              "        const charts = await google.colab.kernel.invokeFunction(\n",
              "            'suggestCharts', [key], {});\n",
              "      } catch (error) {\n",
              "        console.error('Error during call to suggestCharts:', error);\n",
              "      }\n",
              "      quickchartButtonEl.classList.remove('colab-df-spinner');\n",
              "      quickchartButtonEl.classList.add('colab-df-quickchart-complete');\n",
              "    }\n",
              "    (() => {\n",
              "      let quickchartButtonEl =\n",
              "        document.querySelector('#df-64a7cc1e-7508-421b-93e9-8141066c8e0b button');\n",
              "      quickchartButtonEl.style.display =\n",
              "        google.colab.kernel.accessAllowed ? 'block' : 'none';\n",
              "    })();\n",
              "  </script>\n",
              "</div>\n",
              "\n",
              "    </div>\n",
              "  </div>\n"
            ],
            "application/vnd.google.colaboratory.intrinsic+json": {
              "type": "dataframe"
            }
          },
          "metadata": {},
          "execution_count": 7
        }
      ]
    },
    {
      "cell_type": "code",
      "source": [
        "#Distribution of the digits in the dataset\n",
        "_ = dataset['label'].value_counts().plot(kind = 'bar', color = 'purple')\n",
        "plt.xlabel(\"Label\")\n",
        "plt.ylabel(\"Frequency\")\n",
        "plt.show()"
      ],
      "metadata": {
        "id": "Un8XM7nYacMf",
        "colab": {
          "base_uri": "https://localhost:8080/",
          "height": 453
        },
        "outputId": "87e4c954-d809-4da2-c19f-aa94bdb4eba7"
      },
      "execution_count": null,
      "outputs": [
        {
          "output_type": "display_data",
          "data": {
            "text/plain": [
              "<Figure size 640x480 with 1 Axes>"
            ],
            "image/png": "[encoded data removed]"
          },
          "metadata": {}
        }
      ]
    },
    {
      "cell_type": "code",
      "source": [
        "def display_digits(start_index, end_index, dataset):\n",
        "    \"\"\"\n",
        "    Displays handwritten digit images from the dataset\n",
        "    within the specified range [start_index, end_index].\n",
        "    \"\"\"\n",
        "\n",
        "    images = np.arange(start_index, end_index)  # Setting the range\n",
        "\n",
        "    subset_images = dataset.iloc[images, :]  # Selects images within that range\n",
        "    subset_images.index = range(1, end_index - start_index + 1)  # Resets index of subset images to start at 1\n",
        "    labels = subset_images['label'].values  # Get labels of the selected images\n",
        "    subset_images.drop(columns=['label'], inplace=True)  # Dropping column from the dataframe\n",
        "\n",
        "    num_images = end_index - start_index\n",
        "    rows = (num_images // 8) + 1\n",
        "\n",
        "    # Converts pixel data to image data\n",
        "    for i, row in subset_images.iterrows():\n",
        "        plt.subplot(rows, 8, i)\n",
        "        pixels = row.values.reshape((28, 28))\n",
        "        plt.imshow(pixels, cmap='gray')\n",
        "        plt.xticks([])\n",
        "        plt.yticks([])\n",
        "        plt.title(f\"{labels[i-1]}\")  # Display label next to each image\n",
        "\n",
        "    plt.show()\n"
      ],
      "metadata": {
        "id": "cA0TOtJCY8uD"
      },
      "execution_count": null,
      "outputs": []
    },
    {
      "cell_type": "code",
      "source": [
        "display_digits(16, 48, dataset)"
      ],
      "metadata": {
        "id": "aa1rbFKK0lw3",
        "colab": {
          "base_uri": "https://localhost:8080/",
          "height": 430
        },
        "outputId": "419f2da2-8723-466f-f571-1c88c2a8fd4f"
      },
      "execution_count": null,
      "outputs": [
        {
          "output_type": "stream",
          "name": "stderr",
          "text": [
            "<ipython-input-9-8d6c981fcf1e>:12: SettingWithCopyWarning: \n",
            "A value is trying to be set on a copy of a slice from a DataFrame\n",
            "\n",
            "See the caveats in the documentation: https://pandas.pydata.org/pandas-docs/stable/user_guide/indexing.html#returning-a-view-versus-a-copy\n",
            "  subset_images.drop(columns=['label'], inplace=True)  # Dropping column from the dataframe\n"
          ]
        },
        {
          "output_type": "display_data",
          "data": {
            "text/plain": [
              "<Figure size 640x480 with 32 Axes>"
            ],
            "image/png": "[encoded data removed]"
          },
          "metadata": {}
        }
      ]
    },
    {
      "cell_type": "markdown",
      "source": [
        "### **Splitting the dataset into training, validating and testing datasets proportionally**"
      ],
      "metadata": {
        "id": "vA40ct7U-RF_"
      }
    },
    {
      "cell_type": "code",
      "source": [
        "#Initializing target Value/label array and poupulating it with 0 through 25(exclusive) to represent our labels\n",
        "target_values =  list(range(0, 25))\n",
        "\n",
        "# Initialize empty dictionaries to store the splits\n",
        "train_splits = {target: None for target in target_values}\n",
        "valid_splits = {target: None for target in target_values}\n",
        "test_splits = {target: None for target in target_values}\n",
        "\n",
        "# Split the data for each target value\n",
        "for target in target_values:\n",
        "    target_data = dataset[dataset['label'] == target]\n",
        "    train_splits[target] = target_data.sample(frac=0.7)\n",
        "    valid_splits[target] = target_data.sample(frac=0.1)\n",
        "    test_splits[target] = target_data.sample(frac=0.2)\n",
        "\n",
        "# Extract the resulting data splits for each target value\n",
        "train = pd.concat([train_splits[target] for target in target_values])\n",
        "val = pd.concat([valid_splits[target] for target in target_values])\n",
        "test = pd.concat([test_splits[target] for target in target_values])\n",
        "\n",
        "# #Converting the files to a csv type\n",
        "# train.to_csv(\"trainingDataASL.csv\", index=False, float_format=\"%.5f\")\n",
        "# val.to_csv(\"validatingDataASL.csv\", index=False, float_format=\"%.5f\")\n",
        "# test.to_csv(\"testingDataASL.csv\", index=False, float_format=\"%.5f\")"
      ],
      "metadata": {
        "id": "RUinIacFnHls"
      },
      "execution_count": null,
      "outputs": []
    },
    {
      "cell_type": "markdown",
      "source": [
        "Split data files stored under content folder\n"
      ],
      "metadata": {
        "id": "HaWMjMO4z07R"
      }
    },
    {
      "cell_type": "code",
      "source": [
        "#Distribution of the digits in the training dataset\n",
        "_ = train['label'].value_counts().plot(kind = 'bar', color = 'crimson')\n",
        "plt.xlabel(\"Label\")\n",
        "plt.ylabel(\"Frequency\")\n",
        "plt.show()\n",
        "\n",
        "#Distribution of the digits in the validating dataset\n",
        "_ = val['label'].value_counts().plot(kind = 'bar', color = 'violet')\n",
        "plt.xlabel(\"Label\")\n",
        "plt.ylabel(\"Frequency\")\n",
        "plt.show()\n",
        "\n",
        "#Distribution of the digits in the testing dataset\n",
        "_ = test['label'].value_counts().plot(kind = 'bar', color = 'blue')\n",
        "plt.xlabel(\"Label\")\n",
        "plt.ylabel(\"Frequency\")\n",
        "plt.show()"
      ],
      "metadata": {
        "id": "OI_557R-z0HN",
        "colab": {
          "base_uri": "https://localhost:8080/",
          "height": 1000
        },
        "outputId": "1ecbc707-03bb-4fe8-b6a1-f57820409424"
      },
      "execution_count": null,
      "outputs": [
        {
          "output_type": "display_data",
          "data": {
            "text/plain": [
              "<Figure size 640x480 with 1 Axes>"
            ],
            "image/png": "[encoded data removed]"
          },
          "metadata": {}
        },
        {
          "output_type": "display_data",
          "data": {
            "text/plain": [
              "<Figure size 640x480 with 1 Axes>"
            ],
            "image/png": "[encoded data removed]"
          },
          "metadata": {}
        },
        {
          "output_type": "display_data",
          "data": {
            "text/plain": [
              "<Figure size 640x480 with 1 Axes>"
            ],
            "image/png": "[encoded data removed]"
          },
          "metadata": {}
        }
      ]
    },
    {
      "cell_type": "markdown",
      "source": [
        "## **Scaling/Reshaping the dataset for CNN**\n"
      ],
      "metadata": {
        "id": "n8uM_MCAnBcu"
      }
    },
    {
      "cell_type": "code",
      "source": [
        "#Loading the training and validating datasets\n",
        "\n",
        "trainFile = \"trainingDataASL.csv\"\n",
        "trainID = '1ktLoOffkeEN4H92KsTLpMV_tnh1rMXOg'\n",
        "if not os.path.isfile(trainFile):\n",
        "  # Downloading the file\n",
        "  gdown.download('https://drive.google.com/uc?id=' + trainID, trainFile, quiet=False)\n",
        "\n",
        "# validateFile = \"validatingDataASL.csv\"\n",
        "# validateID = '1lA-Qz3d0PMkPDaqoetzqOO_DLX8nCdXk'\n",
        "# if not os.path.isfile(validateFile):\n",
        "#   # Downloading the file\n",
        "#   gdown.download('https://drive.google.com/uc?id=' + validateID, validateFile, quiet=False)\n",
        "\n",
        "testFile = \"testingDataASL.csv\"\n",
        "testID = '1Dbh5eXSRVr8OVDohQbybqyuriIqLjIQ1'\n",
        "if not os.path.isfile(testFile):\n",
        "  # Downloading the file\n",
        "  gdown.download('https://drive.google.com/uc?id=' + testID, testFile, quiet=False)"
      ],
      "metadata": {
        "id": "85JpsGjkYO2v",
        "outputId": "30292349-f4c1-4b70-84fa-32570bd6ef2e",
        "colab": {
          "base_uri": "https://localhost:8080/"
        }
      },
      "execution_count": null,
      "outputs": [
        {
          "output_type": "stream",
          "name": "stderr",
          "text": [
            "Downloading...\n",
            "From: https://drive.google.com/uc?id=1ktLoOffkeEN4H92KsTLpMV_tnh1rMXOg\n",
            "To: /content/trainingDataASL.csv\n",
            "100%|██████████| 83.3M/83.3M [00:01<00:00, 54.9MB/s]\n",
            "Downloading...\n",
            "From: https://drive.google.com/uc?id=1Dbh5eXSRVr8OVDohQbybqyuriIqLjIQ1\n",
            "To: /content/testingDataASL.csv\n",
            "100%|██████████| 21.8M/21.8M [00:00<00:00, 37.3MB/s]\n"
          ]
        }
      ]
    },
    {
      "cell_type": "code",
      "source": [
        "from sklearn.preprocessing import LabelBinarizer\n",
        "\n",
        "lb = LabelBinarizer()\n",
        "def prepare_dataset(data: pd.DataFrame):\n",
        "\n",
        "  data_label = data['label']\n",
        "  data_values = data.drop(['label'], axis=1)\n",
        "\n",
        "  # Reshape dataset to fit into CNN\n",
        "  X_data = data_values.values\n",
        "  X_data = data_values.values.reshape(-1, 28, 28, 1)\n",
        "\n",
        "  # Normalize pixel intensity to 0-1\n",
        "  X_data = X_data / 255.0\n",
        "\n",
        "  # One-hot encode labels\n",
        "  Y_data = lb.fit_transform(data_label)\n",
        "\n",
        "  return X_data, Y_data\n",
        "\n"
      ],
      "metadata": {
        "id": "mPwy2RcxBA5F"
      },
      "execution_count": null,
      "outputs": []
    },
    {
      "cell_type": "code",
      "source": [
        "trainData = pd.read_csv('trainingDataASL.csv')\n",
        "xTrain, yTrain = prepare_dataset(trainData)\n",
        "print(xTrain.shape, yTrain.shape)\n",
        "\n",
        "testData = pd.read_csv('testingDataASL.csv')\n",
        "xTest, yTest = prepare_dataset(testData)\n",
        "print(xTest.shape, yTest.shape)\n",
        "\n",
        "# valData = pd.read_csv('validatingDataASL.csv')\n",
        "# xVal, yVal = prepare_dataset(valData)\n",
        "# print(xVal.shape, yVal.shape)"
      ],
      "metadata": {
        "colab": {
          "base_uri": "https://localhost:8080/"
        },
        "id": "OYBmZJwxVCbw",
        "outputId": "d6fe5534-c200-4db3-8e52-5b0bf88c2363"
      },
      "execution_count": null,
      "outputs": [
        {
          "output_type": "stream",
          "name": "stdout",
          "text": [
            "(27455, 28, 28, 1) (27455, 24)\n",
            "(7172, 28, 28, 1) (7172, 24)\n"
          ]
        }
      ]
    },
    {
      "cell_type": "markdown",
      "source": [
        "## TensorFlow CNN Model\n"
      ],
      "metadata": {
        "id": "yD6-5OIDeuNN"
      }
    },
    {
      "cell_type": "code",
      "source": [
        "model = Sequential()\n",
        "\n",
        "# Add convolution layers, relu, and maxpooling\n",
        "model.add(Conv2D(128, kernel_size=(5,5), strides=1, activation='relu', input_shape=(28, 28, 1)))\n",
        "model.add(MaxPool2D(pool_size=(3,3), strides=2))\n",
        "\n",
        "model.add(Conv2D(64, kernel_size=(3,3), strides=1, activation='relu'))\n",
        "model.add(MaxPool2D(pool_size=(2,2), strides=2))\n",
        "\n",
        "model.add(Conv2D(32, kernel_size=(2,2), strides=1, activation='relu'))\n",
        "model.add(MaxPool2D(pool_size=(2,2), strides=2))\n",
        "\n",
        "# Flatten output for fully connected layer\n",
        "model.add(Flatten())\n",
        "\n",
        "# Fully connected layer\n",
        "model.add(Dense(units=512, activation='relu'))\n",
        "model.add(Dropout(rate=0.15))\n",
        "\n",
        "# Output layer\n",
        "model.add(Dense(units=24, activation='softmax'))"
      ],
      "metadata": {
        "id": "iZOUg8JRGDKp"
      },
      "execution_count": null,
      "outputs": []
    },
    {
      "cell_type": "code",
      "source": [
        "model.summary()"
      ],
      "metadata": {
        "colab": {
          "base_uri": "https://localhost:8080/"
        },
        "id": "2fn7uLKsgQ_s",
        "outputId": "acd2d5c7-4f4e-4fee-8da0-deef30a8180d"
      },
      "execution_count": null,
      "outputs": [
        {
          "output_type": "stream",
          "name": "stdout",
          "text": [
            "Model: \"sequential\"\n",
            "_________________________________________________________________\n",
            " Layer (type)                Output Shape              Param #   \n",
            "=================================================================\n",
            " conv2d (Conv2D)             (None, 24, 24, 128)       3328      \n",
            "                                                                 \n",
            " max_pooling2d (MaxPooling2  (None, 11, 11, 128)       0         \n",
            " D)                                                              \n",
            "                                                                 \n",
            " conv2d_1 (Conv2D)           (None, 9, 9, 64)          73792     \n",
            "                                                                 \n",
            " max_pooling2d_1 (MaxPoolin  (None, 4, 4, 64)          0         \n",
            " g2D)                                                            \n",
            "                                                                 \n",
            " conv2d_2 (Conv2D)           (None, 3, 3, 32)          8224      \n",
            "                                                                 \n",
            " max_pooling2d_2 (MaxPoolin  (None, 1, 1, 32)          0         \n",
            " g2D)                                                            \n",
            "                                                                 \n",
            " flatten (Flatten)           (None, 32)                0         \n",
            "                                                                 \n",
            " dense (Dense)               (None, 512)               16896     \n",
            "                                                                 \n",
            " dropout (Dropout)           (None, 512)               0         \n",
            "                                                                 \n",
            " dense_1 (Dense)             (None, 24)                12312     \n",
            "                                                                 \n",
            "=================================================================\n",
            "Total params: 114552 (447.47 KB)\n",
            "Trainable params: 114552 (447.47 KB)\n",
            "Non-trainable params: 0 (0.00 Byte)\n",
            "_________________________________________________________________\n"
          ]
        }
      ]
    },
    {
      "cell_type": "code",
      "source": [
        "# compile model\n",
        "'''\n",
        "- Using adam optimizer because adam adjusts the learning rate during training\n",
        "- Using crossentropy because...\n",
        "'''\n",
        "model.compile(optimizer='adam', loss='categorical_crossentropy', metrics=['accuracy'])\n",
        "\n",
        "\n",
        "\n",
        "# data batch\n",
        "train_generator = ImageDataGenerator(rotation_range = 0,\n",
        "                                  height_shift_range=0.2,\n",
        "                                  width_shift_range=0.2,\n",
        "                                  shear_range=0,\n",
        "                                  zoom_range=0.2,\n",
        "                                  horizontal_flip=False,\n",
        "                                  fill_mode='nearest')"
      ],
      "metadata": {
        "id": "P0dbNyy4g4w7"
      },
      "execution_count": null,
      "outputs": []
    },
    {
      "cell_type": "code",
      "source": [
        "model.fit(train_generator.flow(xTrain, yTrain, batch_size=128),\n",
        "          epochs=100, validation_data=(xTest, yTest),\n",
        "          shuffle=1\n",
        "          )"
      ],
      "metadata": {
        "colab": {
          "base_uri": "https://localhost:8080/"
        },
        "id": "MNo8JKcfg7tH",
        "outputId": "5cc000d4-37f5-47ef-f8ab-4a1d8df9bc70"
      },
      "execution_count": null,
      "outputs": [
        {
          "output_type": "stream",
          "name": "stdout",
          "text": [
            "Epoch 1/100\n",
            "215/215 [==============================] - 10s 48ms/step - loss: 1.0578 - accuracy: 0.6394 - val_loss: 0.6048 - val_accuracy: 0.7977\n",
            "Epoch 2/100\n",
            "215/215 [==============================] - 10s 48ms/step - loss: 0.9374 - accuracy: 0.6801 - val_loss: 0.5121 - val_accuracy: 0.8087\n",
            "Epoch 3/100\n",
            "215/215 [==============================] - 10s 48ms/step - loss: 0.8469 - accuracy: 0.7091 - val_loss: 0.4167 - val_accuracy: 0.8521\n",
            "Epoch 4/100\n",
            "215/215 [==============================] - 10s 48ms/step - loss: 0.7652 - accuracy: 0.7330 - val_loss: 0.3641 - val_accuracy: 0.8670\n",
            "Epoch 5/100\n",
            "215/215 [==============================] - 10s 48ms/step - loss: 0.7180 - accuracy: 0.7545 - val_loss: 0.3308 - val_accuracy: 0.8875\n",
            "Epoch 6/100\n",
            "215/215 [==============================] - 10s 48ms/step - loss: 0.6560 - accuracy: 0.7733 - val_loss: 0.4967 - val_accuracy: 0.8143\n",
            "Epoch 7/100\n",
            "215/215 [==============================] - 10s 48ms/step - loss: 0.5898 - accuracy: 0.7959 - val_loss: 0.3500 - val_accuracy: 0.8730\n",
            "Epoch 8/100\n",
            "215/215 [==============================] - 10s 48ms/step - loss: 0.5832 - accuracy: 0.8014 - val_loss: 0.2798 - val_accuracy: 0.8958\n",
            "Epoch 9/100\n",
            "215/215 [==============================] - 10s 49ms/step - loss: 0.5301 - accuracy: 0.8188 - val_loss: 0.2109 - val_accuracy: 0.9282\n",
            "Epoch 10/100\n",
            "215/215 [==============================] - 10s 48ms/step - loss: 0.5104 - accuracy: 0.8245 - val_loss: 0.2418 - val_accuracy: 0.9170\n",
            "Epoch 11/100\n",
            "215/215 [==============================] - 10s 48ms/step - loss: 0.4862 - accuracy: 0.8325 - val_loss: 0.2029 - val_accuracy: 0.9366\n",
            "Epoch 12/100\n",
            "215/215 [==============================] - 10s 48ms/step - loss: 0.4608 - accuracy: 0.8429 - val_loss: 0.2441 - val_accuracy: 0.9240\n",
            "Epoch 13/100\n",
            "215/215 [==============================] - 10s 48ms/step - loss: 0.4359 - accuracy: 0.8503 - val_loss: 0.1488 - val_accuracy: 0.9569\n",
            "Epoch 14/100\n",
            "215/215 [==============================] - 10s 48ms/step - loss: 0.4173 - accuracy: 0.8567 - val_loss: 0.2215 - val_accuracy: 0.9225\n",
            "Epoch 15/100\n",
            "215/215 [==============================] - 10s 48ms/step - loss: 0.3979 - accuracy: 0.8623 - val_loss: 0.1356 - val_accuracy: 0.9522\n",
            "Epoch 16/100\n",
            "215/215 [==============================] - 11s 49ms/step - loss: 0.3737 - accuracy: 0.8721 - val_loss: 0.1858 - val_accuracy: 0.9384\n",
            "Epoch 17/100\n",
            "215/215 [==============================] - 10s 48ms/step - loss: 0.3703 - accuracy: 0.8719 - val_loss: 0.1504 - val_accuracy: 0.9467\n",
            "Epoch 18/100\n",
            "215/215 [==============================] - 10s 47ms/step - loss: 0.3529 - accuracy: 0.8805 - val_loss: 0.1411 - val_accuracy: 0.9540\n",
            "Epoch 19/100\n",
            "215/215 [==============================] - 10s 49ms/step - loss: 0.3447 - accuracy: 0.8824 - val_loss: 0.1223 - val_accuracy: 0.9561\n",
            "Epoch 20/100\n",
            "215/215 [==============================] - 10s 48ms/step - loss: 0.3383 - accuracy: 0.8837 - val_loss: 0.0897 - val_accuracy: 0.9725\n",
            "Epoch 21/100\n",
            "215/215 [==============================] - 10s 48ms/step - loss: 0.3248 - accuracy: 0.8871 - val_loss: 0.1480 - val_accuracy: 0.9502\n",
            "Epoch 22/100\n",
            "215/215 [==============================] - 10s 49ms/step - loss: 0.3036 - accuracy: 0.8973 - val_loss: 0.1158 - val_accuracy: 0.9661\n",
            "Epoch 23/100\n",
            "215/215 [==============================] - 10s 48ms/step - loss: 0.3031 - accuracy: 0.8986 - val_loss: 0.0732 - val_accuracy: 0.9734\n",
            "Epoch 24/100\n",
            "215/215 [==============================] - 10s 48ms/step - loss: 0.2938 - accuracy: 0.8998 - val_loss: 0.1378 - val_accuracy: 0.9534\n",
            "Epoch 25/100\n",
            "215/215 [==============================] - 10s 48ms/step - loss: 0.2834 - accuracy: 0.9026 - val_loss: 0.0869 - val_accuracy: 0.9657\n",
            "Epoch 26/100\n",
            "215/215 [==============================] - 10s 49ms/step - loss: 0.2751 - accuracy: 0.9061 - val_loss: 0.1004 - val_accuracy: 0.9619\n",
            "Epoch 27/100\n",
            "215/215 [==============================] - 10s 49ms/step - loss: 0.2775 - accuracy: 0.9064 - val_loss: 0.0890 - val_accuracy: 0.9678\n",
            "Epoch 28/100\n",
            "215/215 [==============================] - 10s 48ms/step - loss: 0.2632 - accuracy: 0.9103 - val_loss: 0.1030 - val_accuracy: 0.9589\n",
            "Epoch 29/100\n",
            "215/215 [==============================] - 10s 48ms/step - loss: 0.2465 - accuracy: 0.9134 - val_loss: 0.0860 - val_accuracy: 0.9667\n",
            "Epoch 30/100\n",
            "215/215 [==============================] - 10s 47ms/step - loss: 0.2468 - accuracy: 0.9144 - val_loss: 0.0764 - val_accuracy: 0.9706\n",
            "Epoch 31/100\n",
            "215/215 [==============================] - 10s 48ms/step - loss: 0.2412 - accuracy: 0.9168 - val_loss: 0.0760 - val_accuracy: 0.9742\n",
            "Epoch 32/100\n",
            "215/215 [==============================] - 10s 48ms/step - loss: 0.2470 - accuracy: 0.9148 - val_loss: 0.0745 - val_accuracy: 0.9716\n",
            "Epoch 33/100\n",
            "215/215 [==============================] - 10s 47ms/step - loss: 0.2275 - accuracy: 0.9220 - val_loss: 0.0688 - val_accuracy: 0.9742\n",
            "Epoch 34/100\n",
            "215/215 [==============================] - 10s 48ms/step - loss: 0.2268 - accuracy: 0.9222 - val_loss: 0.0695 - val_accuracy: 0.9776\n",
            "Epoch 35/100\n",
            "215/215 [==============================] - 10s 48ms/step - loss: 0.2312 - accuracy: 0.9213 - val_loss: 0.0497 - val_accuracy: 0.9837\n",
            "Epoch 36/100\n",
            "215/215 [==============================] - 10s 48ms/step - loss: 0.2226 - accuracy: 0.9229 - val_loss: 0.0798 - val_accuracy: 0.9686\n",
            "Epoch 37/100\n",
            "215/215 [==============================] - 10s 48ms/step - loss: 0.2238 - accuracy: 0.9235 - val_loss: 0.0472 - val_accuracy: 0.9866\n",
            "Epoch 38/100\n",
            "215/215 [==============================] - 10s 48ms/step - loss: 0.2018 - accuracy: 0.9313 - val_loss: 0.0469 - val_accuracy: 0.9862\n",
            "Epoch 39/100\n",
            "215/215 [==============================] - 10s 49ms/step - loss: 0.2038 - accuracy: 0.9302 - val_loss: 0.0547 - val_accuracy: 0.9823\n",
            "Epoch 40/100\n",
            "215/215 [==============================] - 10s 48ms/step - loss: 0.2159 - accuracy: 0.9262 - val_loss: 0.0431 - val_accuracy: 0.9855\n",
            "Epoch 41/100\n",
            "215/215 [==============================] - 10s 48ms/step - loss: 0.2048 - accuracy: 0.9290 - val_loss: 0.0326 - val_accuracy: 0.9904\n",
            "Epoch 42/100\n",
            "215/215 [==============================] - 10s 48ms/step - loss: 0.2037 - accuracy: 0.9307 - val_loss: 0.0468 - val_accuracy: 0.9873\n",
            "Epoch 43/100\n",
            "215/215 [==============================] - 10s 47ms/step - loss: 0.2036 - accuracy: 0.9313 - val_loss: 0.0568 - val_accuracy: 0.9835\n",
            "Epoch 44/100\n",
            "215/215 [==============================] - 10s 47ms/step - loss: 0.1934 - accuracy: 0.9339 - val_loss: 0.0341 - val_accuracy: 0.9866\n",
            "Epoch 45/100\n",
            "215/215 [==============================] - 10s 48ms/step - loss: 0.1843 - accuracy: 0.9367 - val_loss: 0.0712 - val_accuracy: 0.9776\n",
            "Epoch 46/100\n",
            "215/215 [==============================] - 10s 48ms/step - loss: 0.1826 - accuracy: 0.9362 - val_loss: 0.0529 - val_accuracy: 0.9824\n",
            "Epoch 47/100\n",
            "215/215 [==============================] - 10s 48ms/step - loss: 0.1783 - accuracy: 0.9378 - val_loss: 0.0382 - val_accuracy: 0.9876\n",
            "Epoch 48/100\n",
            "215/215 [==============================] - 10s 48ms/step - loss: 0.1764 - accuracy: 0.9400 - val_loss: 0.0543 - val_accuracy: 0.9812\n",
            "Epoch 49/100\n",
            "215/215 [==============================] - 10s 48ms/step - loss: 0.1862 - accuracy: 0.9358 - val_loss: 0.0515 - val_accuracy: 0.9819\n",
            "Epoch 50/100\n",
            "215/215 [==============================] - 10s 47ms/step - loss: 0.1802 - accuracy: 0.9379 - val_loss: 0.0425 - val_accuracy: 0.9851\n",
            "Epoch 51/100\n",
            "215/215 [==============================] - 10s 48ms/step - loss: 0.1741 - accuracy: 0.9398 - val_loss: 0.0304 - val_accuracy: 0.9915\n",
            "Epoch 52/100\n",
            "215/215 [==============================] - 10s 48ms/step - loss: 0.1741 - accuracy: 0.9416 - val_loss: 0.0559 - val_accuracy: 0.9834\n",
            "Epoch 53/100\n",
            "215/215 [==============================] - 10s 48ms/step - loss: 0.1665 - accuracy: 0.9427 - val_loss: 0.0392 - val_accuracy: 0.9884\n",
            "Epoch 54/100\n",
            "215/215 [==============================] - 10s 48ms/step - loss: 0.1662 - accuracy: 0.9436 - val_loss: 0.0401 - val_accuracy: 0.9823\n",
            "Epoch 55/100\n",
            "215/215 [==============================] - 10s 48ms/step - loss: 0.1656 - accuracy: 0.9433 - val_loss: 0.0308 - val_accuracy: 0.9893\n",
            "Epoch 56/100\n",
            "215/215 [==============================] - 10s 48ms/step - loss: 0.1602 - accuracy: 0.9453 - val_loss: 0.0580 - val_accuracy: 0.9805\n",
            "Epoch 57/100\n",
            "215/215 [==============================] - 10s 48ms/step - loss: 0.1527 - accuracy: 0.9473 - val_loss: 0.0288 - val_accuracy: 0.9930\n",
            "Epoch 58/100\n",
            "215/215 [==============================] - 10s 48ms/step - loss: 0.1599 - accuracy: 0.9447 - val_loss: 0.0455 - val_accuracy: 0.9801\n",
            "Epoch 59/100\n",
            "215/215 [==============================] - 10s 48ms/step - loss: 0.1544 - accuracy: 0.9472 - val_loss: 0.0344 - val_accuracy: 0.9880\n",
            "Epoch 60/100\n",
            "215/215 [==============================] - 10s 48ms/step - loss: 0.1508 - accuracy: 0.9485 - val_loss: 0.0412 - val_accuracy: 0.9862\n",
            "Epoch 61/100\n",
            "215/215 [==============================] - 10s 48ms/step - loss: 0.1541 - accuracy: 0.9485 - val_loss: 0.0224 - val_accuracy: 0.9925\n",
            "Epoch 62/100\n",
            "215/215 [==============================] - 10s 48ms/step - loss: 0.1559 - accuracy: 0.9461 - val_loss: 0.0353 - val_accuracy: 0.9898\n",
            "Epoch 63/100\n",
            "215/215 [==============================] - 10s 48ms/step - loss: 0.1468 - accuracy: 0.9492 - val_loss: 0.0479 - val_accuracy: 0.9817\n",
            "Epoch 64/100\n",
            "215/215 [==============================] - 10s 48ms/step - loss: 0.1491 - accuracy: 0.9485 - val_loss: 0.0358 - val_accuracy: 0.9880\n",
            "Epoch 65/100\n",
            "215/215 [==============================] - 10s 47ms/step - loss: 0.1385 - accuracy: 0.9530 - val_loss: 0.0318 - val_accuracy: 0.9888\n",
            "Epoch 66/100\n",
            "215/215 [==============================] - 10s 48ms/step - loss: 0.1422 - accuracy: 0.9505 - val_loss: 0.0426 - val_accuracy: 0.9827\n",
            "Epoch 67/100\n",
            "215/215 [==============================] - 10s 48ms/step - loss: 0.1491 - accuracy: 0.9489 - val_loss: 0.0316 - val_accuracy: 0.9876\n",
            "Epoch 68/100\n",
            "215/215 [==============================] - 10s 48ms/step - loss: 0.1444 - accuracy: 0.9511 - val_loss: 0.0461 - val_accuracy: 0.9837\n",
            "Epoch 69/100\n",
            "215/215 [==============================] - 10s 49ms/step - loss: 0.1367 - accuracy: 0.9543 - val_loss: 0.0519 - val_accuracy: 0.9875\n",
            "Epoch 70/100\n",
            "215/215 [==============================] - 10s 48ms/step - loss: 0.1392 - accuracy: 0.9521 - val_loss: 0.0396 - val_accuracy: 0.9862\n",
            "Epoch 71/100\n",
            "215/215 [==============================] - 10s 48ms/step - loss: 0.1290 - accuracy: 0.9555 - val_loss: 0.0385 - val_accuracy: 0.9866\n",
            "Epoch 72/100\n",
            "215/215 [==============================] - 10s 48ms/step - loss: 0.1440 - accuracy: 0.9516 - val_loss: 0.0266 - val_accuracy: 0.9912\n",
            "Epoch 73/100\n",
            "215/215 [==============================] - 10s 48ms/step - loss: 0.1301 - accuracy: 0.9552 - val_loss: 0.0342 - val_accuracy: 0.9851\n",
            "Epoch 74/100\n",
            "215/215 [==============================] - 10s 48ms/step - loss: 0.1324 - accuracy: 0.9541 - val_loss: 0.0292 - val_accuracy: 0.9891\n",
            "Epoch 75/100\n",
            "215/215 [==============================] - 10s 48ms/step - loss: 0.1308 - accuracy: 0.9551 - val_loss: 0.0122 - val_accuracy: 0.9980\n",
            "Epoch 76/100\n",
            "215/215 [==============================] - 10s 47ms/step - loss: 0.1414 - accuracy: 0.9516 - val_loss: 0.0644 - val_accuracy: 0.9780\n",
            "Epoch 77/100\n",
            "215/215 [==============================] - 10s 48ms/step - loss: 0.1346 - accuracy: 0.9548 - val_loss: 0.0374 - val_accuracy: 0.9835\n",
            "Epoch 78/100\n",
            "215/215 [==============================] - 10s 49ms/step - loss: 0.1303 - accuracy: 0.9550 - val_loss: 0.0384 - val_accuracy: 0.9859\n",
            "Epoch 79/100\n",
            "215/215 [==============================] - 10s 48ms/step - loss: 0.1276 - accuracy: 0.9553 - val_loss: 0.0193 - val_accuracy: 0.9932\n",
            "Epoch 80/100\n",
            "215/215 [==============================] - 10s 48ms/step - loss: 0.1260 - accuracy: 0.9553 - val_loss: 0.0147 - val_accuracy: 0.9948\n",
            "Epoch 81/100\n",
            "215/215 [==============================] - 10s 48ms/step - loss: 0.1222 - accuracy: 0.9570 - val_loss: 0.0130 - val_accuracy: 0.9958\n",
            "Epoch 82/100\n",
            "215/215 [==============================] - 10s 48ms/step - loss: 0.1202 - accuracy: 0.9593 - val_loss: 0.0326 - val_accuracy: 0.9888\n",
            "Epoch 83/100\n",
            "215/215 [==============================] - 10s 48ms/step - loss: 0.1218 - accuracy: 0.9585 - val_loss: 0.0293 - val_accuracy: 0.9902\n",
            "Epoch 84/100\n",
            "215/215 [==============================] - 10s 48ms/step - loss: 0.1225 - accuracy: 0.9580 - val_loss: 0.0293 - val_accuracy: 0.9886\n",
            "Epoch 85/100\n",
            "215/215 [==============================] - 10s 48ms/step - loss: 0.1337 - accuracy: 0.9536 - val_loss: 0.0355 - val_accuracy: 0.9852\n",
            "Epoch 86/100\n",
            "215/215 [==============================] - 10s 48ms/step - loss: 0.1210 - accuracy: 0.9588 - val_loss: 0.0144 - val_accuracy: 0.9943\n",
            "Epoch 87/100\n",
            "215/215 [==============================] - 10s 48ms/step - loss: 0.1198 - accuracy: 0.9598 - val_loss: 0.0714 - val_accuracy: 0.9780\n",
            "Epoch 88/100\n",
            "215/215 [==============================] - 10s 48ms/step - loss: 0.1164 - accuracy: 0.9610 - val_loss: 0.0199 - val_accuracy: 0.9943\n",
            "Epoch 89/100\n",
            "215/215 [==============================] - 10s 49ms/step - loss: 0.1235 - accuracy: 0.9588 - val_loss: 0.0307 - val_accuracy: 0.9887\n",
            "Epoch 90/100\n",
            "215/215 [==============================] - 10s 47ms/step - loss: 0.1104 - accuracy: 0.9629 - val_loss: 0.0345 - val_accuracy: 0.9855\n",
            "Epoch 91/100\n",
            "215/215 [==============================] - 10s 48ms/step - loss: 0.1178 - accuracy: 0.9599 - val_loss: 0.0220 - val_accuracy: 0.9916\n",
            "Epoch 92/100\n",
            "215/215 [==============================] - 10s 48ms/step - loss: 0.1199 - accuracy: 0.9601 - val_loss: 0.0302 - val_accuracy: 0.9894\n",
            "Epoch 93/100\n",
            "215/215 [==============================] - 10s 48ms/step - loss: 0.1134 - accuracy: 0.9612 - val_loss: 0.0348 - val_accuracy: 0.9868\n",
            "Epoch 94/100\n",
            "215/215 [==============================] - 10s 49ms/step - loss: 0.1179 - accuracy: 0.9603 - val_loss: 0.0171 - val_accuracy: 0.9941\n",
            "Epoch 95/100\n",
            "215/215 [==============================] - 10s 48ms/step - loss: 0.1031 - accuracy: 0.9657 - val_loss: 0.0136 - val_accuracy: 0.9958\n",
            "Epoch 96/100\n",
            "215/215 [==============================] - 10s 48ms/step - loss: 0.1100 - accuracy: 0.9632 - val_loss: 0.0491 - val_accuracy: 0.9820\n",
            "Epoch 97/100\n",
            "215/215 [==============================] - 10s 48ms/step - loss: 0.1117 - accuracy: 0.9618 - val_loss: 0.0125 - val_accuracy: 0.9964\n",
            "Epoch 98/100\n",
            "215/215 [==============================] - 10s 49ms/step - loss: 0.1160 - accuracy: 0.9603 - val_loss: 0.0205 - val_accuracy: 0.9909\n",
            "Epoch 99/100\n",
            "215/215 [==============================] - 10s 48ms/step - loss: 0.1114 - accuracy: 0.9620 - val_loss: 0.0127 - val_accuracy: 0.9955\n",
            "Epoch 100/100\n",
            "215/215 [==============================] - 10s 48ms/step - loss: 0.1066 - accuracy: 0.9632 - val_loss: 0.0077 - val_accuracy: 0.9983\n"
          ]
        },
        {
          "output_type": "execute_result",
          "data": {
            "text/plain": [
              "<keras.src.callbacks.History at 0x7fbb3453add0>"
            ]
          },
          "metadata": {},
          "execution_count": 20
        }
      ]
    },
    {
      "cell_type": "code",
      "source": [
        "# save for future use\n",
        "model.save(\"new_best.keras\")"
      ],
      "metadata": {
        "id": "sru7F_D2PKl7"
      },
      "execution_count": null,
      "outputs": []
    },
    {
      "cell_type": "code",
      "source": [
        "#Loading the combined dataset\n",
        "input_filename = \"new_best.keras\"\n",
        "# Replace 'file_id' with the ID of your file\n",
        "file_id = '1i2ulpiYHXJ8Hp5jA9JSG-DvFvyrKmRQ9'\n",
        "if not os.path.isfile(input_filename):\n",
        "  # Downloading the file\n",
        "  gdown.download('https://drive.google.com/uc?id=' + file_id, input_filename, quiet=False)"
      ],
      "metadata": {
        "id": "JDhhbV8FJ0Fd",
        "outputId": "cc29fc2c-a384-443c-f6b2-c3cfccafd905",
        "colab": {
          "base_uri": "https://localhost:8080/"
        }
      },
      "execution_count": null,
      "outputs": [
        {
          "output_type": "stream",
          "name": "stderr",
          "text": [
            "Downloading...\n",
            "From: https://drive.google.com/uc?id=1i2ulpiYHXJ8Hp5jA9JSG-DvFvyrKmRQ9\n",
            "To: /content/new_best.keras\n",
            "100%|██████████| 1.42M/1.42M [00:00<00:00, 23.6MB/s]\n"
          ]
        }
      ]
    },
    {
      "cell_type": "code",
      "source": [
        "model = load_model('new_best.keras')"
      ],
      "metadata": {
        "id": "Jj3OXVSDH_Zz"
      },
      "execution_count": null,
      "outputs": []
    },
    {
      "cell_type": "code",
      "source": [
        "(testing_loss, testing_accuracy)=model.evaluate(xTest,yTest,batch_size=128)\n",
        "print(f\"Testing Loss: {testing_loss:.4f}, Testing Accuracy: {testing_accuracy:.4f}\")\n",
        "print('MODEL ACCURACY = {}%'.format(testing_accuracy*100))"
      ],
      "metadata": {
        "id": "MI1PLJ5Qin4M",
        "colab": {
          "base_uri": "https://localhost:8080/"
        },
        "outputId": "87304424-a6d2-4d9e-ed07-94c38a7b0fbe"
      },
      "execution_count": null,
      "outputs": [
        {
          "output_type": "stream",
          "name": "stdout",
          "text": [
            "57/57 [==============================] - 1s 12ms/step - loss: 0.0077 - accuracy: 0.9983\n",
            "Testing Loss: 0.0077, Testing Accuracy: 0.9983\n",
            "MODEL ACCURACY = 99.832683801651%\n"
          ]
        }
      ]
    },
    {
      "cell_type": "code",
      "source": [
        "def skin_detection(image1):\n",
        "    # Convert image to YUV color space\n",
        "    yuv_image = cv2.cvtColor(image1, cv2.COLOR_BGR2YUV)\n",
        "\n",
        "    # Extract Y, U, and V channels\n",
        "    Y, U, V = cv2.split(yuv_image)\n",
        "\n",
        "    # Define thresholds for skin detection\n",
        "    y_threshold = cv2.inRange(Y, 35, 125)\n",
        "\n",
        "    # theta_threshold = cv2.inRange(np.arctan(V/U), 105, 150)\n",
        "    theta_threshold = cv2.inRange(U, 105, 135)\n",
        "\n",
        "    # Combine the thresholds\n",
        "    skin_mask = cv2.bitwise_and(y_threshold, theta_threshold)\n",
        "    skin_mask = cv2.threshold(skin_mask, 0, 255, cv2.THRESH_OTSU)[1]\n",
        "\n",
        "\n",
        "\n",
        "    return skin_mask\n",
        "\n",
        "def predict_gesture(frame, coords, model, lb, clustering=False):\n",
        "    letter_labels = {\n",
        "        0: 'A',\n",
        "        1: 'B',\n",
        "        2: 'C',\n",
        "        3: 'D',\n",
        "        4: 'E',\n",
        "        5: 'F',\n",
        "        6: 'G',\n",
        "        7: 'H',\n",
        "        8: 'I',\n",
        "        10: 'K',\n",
        "        11: 'L',\n",
        "        12: 'M',\n",
        "        13: 'N',\n",
        "        14: 'O',\n",
        "        15: 'P',\n",
        "        16: 'Q',\n",
        "        17: 'R',\n",
        "        18: 'S',\n",
        "        19: 'T',\n",
        "        20: 'U',\n",
        "        21: 'V',\n",
        "        22: 'W',\n",
        "        23: 'X',\n",
        "        24: 'Y',\n",
        "    }\n",
        "\n",
        "\n",
        "    # grayscale\n",
        "    if clustering:\n",
        "      gray = cv2.cvtColor(frame, cv2.COLOR_RGB2GRAY)\n",
        "    else:\n",
        "      gray = skin_detection(frame)\n",
        "    # crop to bounding box\n",
        "    x1, y1, x2, y2 = coords\n",
        "    w = x2 - x1\n",
        "    h = y2 - y1\n",
        "    gray = gray[y1:y1 + h, x1:x1 + w]\n",
        "    # cv2_imshow(gray)\n",
        "\n",
        "    # reshape\n",
        "    gray = cv2.resize(gray, (28,28))\n",
        "\n",
        "    # Create batch\n",
        "    img_array = np.expand_dims(gray, axis=0)\n",
        "\n",
        "    img_array = img_array.astype(np.float32) / 255.0\n",
        "\n",
        "\n",
        "    # Predict the gesture\n",
        "    predictions = model.predict(img_array, verbose=0)\n",
        "    class_idx = np.argmax(predictions[0])\n",
        "\n",
        "    conf = np.amax(predictions)\n",
        "    predicted_label = lb.classes_[class_idx]\n",
        "    return letter_labels[predicted_label], conf"
      ],
      "metadata": {
        "id": "6A-IrqOm-xuR"
      },
      "execution_count": null,
      "outputs": []
    },
    {
      "cell_type": "markdown",
      "source": [
        "#Loading datasets for ANN Model"
      ],
      "metadata": {
        "id": "YrPF2FGy2Mnm"
      }
    },
    {
      "cell_type": "code",
      "source": [
        "!pip install tensorflow\n",
        "import tensorflow as tf\n",
        "from tensorflow.keras.utils import to_categorical\n"
      ],
      "metadata": {
        "id": "IGVxIG34AUwR",
        "outputId": "88a6f333-927b-46d4-dc77-4ecbae4ac1d4",
        "colab": {
          "base_uri": "https://localhost:8080/"
        }
      },
      "execution_count": null,
      "outputs": [
        {
          "output_type": "stream",
          "name": "stdout",
          "text": [
            "Requirement already satisfied: tensorflow in /usr/local/lib/python3.10/dist-packages (2.15.0)\n",
            "Requirement already satisfied: absl-py>=1.0.0 in /usr/local/lib/python3.10/dist-packages (from tensorflow) (1.4.0)\n",
            "Requirement already satisfied: astunparse>=1.6.0 in /usr/local/lib/python3.10/dist-packages (from tensorflow) (1.6.3)\n",
            "Requirement already satisfied: flatbuffers>=23.5.26 in /usr/local/lib/python3.10/dist-packages (from tensorflow) (24.3.25)\n",
            "Requirement already satisfied: gast!=0.5.0,!=0.5.1,!=0.5.2,>=0.2.1 in /usr/local/lib/python3.10/dist-packages (from tensorflow) (0.5.4)\n",
            "Requirement already satisfied: google-pasta>=0.1.1 in /usr/local/lib/python3.10/dist-packages (from tensorflow) (0.2.0)\n",
            "Requirement already satisfied: h5py>=2.9.0 in /usr/local/lib/python3.10/dist-packages (from tensorflow) (3.9.0)\n",
            "Requirement already satisfied: libclang>=13.0.0 in /usr/local/lib/python3.10/dist-packages (from tensorflow) (18.1.1)\n",
            "Requirement already satisfied: ml-dtypes~=0.2.0 in /usr/local/lib/python3.10/dist-packages (from tensorflow) (0.2.0)\n",
            "Requirement already satisfied: numpy<2.0.0,>=1.23.5 in /usr/local/lib/python3.10/dist-packages (from tensorflow) (1.25.2)\n",
            "Requirement already satisfied: opt-einsum>=2.3.2 in /usr/local/lib/python3.10/dist-packages (from tensorflow) (3.3.0)\n",
            "Requirement already satisfied: packaging in /usr/local/lib/python3.10/dist-packages (from tensorflow) (24.0)\n",
            "Requirement already satisfied: protobuf!=4.21.0,!=4.21.1,!=4.21.2,!=4.21.3,!=4.21.4,!=4.21.5,<5.0.0dev,>=3.20.3 in /usr/local/lib/python3.10/dist-packages (from tensorflow) (4.25.3)\n",
            "Requirement already satisfied: setuptools in /usr/local/lib/python3.10/dist-packages (from tensorflow) (67.7.2)\n",
            "Requirement already satisfied: six>=1.12.0 in /usr/local/lib/python3.10/dist-packages (from tensorflow) (1.16.0)\n",
            "Requirement already satisfied: termcolor>=1.1.0 in /usr/local/lib/python3.10/dist-packages (from tensorflow) (2.4.0)\n",
            "Requirement already satisfied: typing-extensions>=3.6.6 in /usr/local/lib/python3.10/dist-packages (from tensorflow) (4.11.0)\n",
            "Requirement already satisfied: wrapt<1.15,>=1.11.0 in /usr/local/lib/python3.10/dist-packages (from tensorflow) (1.14.1)\n",
            "Requirement already satisfied: tensorflow-io-gcs-filesystem>=0.23.1 in /usr/local/lib/python3.10/dist-packages (from tensorflow) (0.37.0)\n",
            "Requirement already satisfied: grpcio<2.0,>=1.24.3 in /usr/local/lib/python3.10/dist-packages (from tensorflow) (1.63.0)\n",
            "Requirement already satisfied: tensorboard<2.16,>=2.15 in /usr/local/lib/python3.10/dist-packages (from tensorflow) (2.15.2)\n",
            "Requirement already satisfied: tensorflow-estimator<2.16,>=2.15.0 in /usr/local/lib/python3.10/dist-packages (from tensorflow) (2.15.0)\n",
            "Requirement already satisfied: keras<2.16,>=2.15.0 in /usr/local/lib/python3.10/dist-packages (from tensorflow) (2.15.0)\n",
            "Requirement already satisfied: wheel<1.0,>=0.23.0 in /usr/local/lib/python3.10/dist-packages (from astunparse>=1.6.0->tensorflow) (0.43.0)\n",
            "Requirement already satisfied: google-auth<3,>=1.6.3 in /usr/local/lib/python3.10/dist-packages (from tensorboard<2.16,>=2.15->tensorflow) (2.27.0)\n",
            "Requirement already satisfied: google-auth-oauthlib<2,>=0.5 in /usr/local/lib/python3.10/dist-packages (from tensorboard<2.16,>=2.15->tensorflow) (1.2.0)\n",
            "Requirement already satisfied: markdown>=2.6.8 in /usr/local/lib/python3.10/dist-packages (from tensorboard<2.16,>=2.15->tensorflow) (3.6)\n",
            "Requirement already satisfied: requests<3,>=2.21.0 in /usr/local/lib/python3.10/dist-packages (from tensorboard<2.16,>=2.15->tensorflow) (2.31.0)\n",
            "Requirement already satisfied: tensorboard-data-server<0.8.0,>=0.7.0 in /usr/local/lib/python3.10/dist-packages (from tensorboard<2.16,>=2.15->tensorflow) (0.7.2)\n",
            "Requirement already satisfied: werkzeug>=1.0.1 in /usr/local/lib/python3.10/dist-packages (from tensorboard<2.16,>=2.15->tensorflow) (3.0.3)\n",
            "Requirement already satisfied: cachetools<6.0,>=2.0.0 in /usr/local/lib/python3.10/dist-packages (from google-auth<3,>=1.6.3->tensorboard<2.16,>=2.15->tensorflow) (5.3.3)\n",
            "Requirement already satisfied: pyasn1-modules>=0.2.1 in /usr/local/lib/python3.10/dist-packages (from google-auth<3,>=1.6.3->tensorboard<2.16,>=2.15->tensorflow) (0.4.0)\n",
            "Requirement already satisfied: rsa<5,>=3.1.4 in /usr/local/lib/python3.10/dist-packages (from google-auth<3,>=1.6.3->tensorboard<2.16,>=2.15->tensorflow) (4.9)\n",
            "Requirement already satisfied: requests-oauthlib>=0.7.0 in /usr/local/lib/python3.10/dist-packages (from google-auth-oauthlib<2,>=0.5->tensorboard<2.16,>=2.15->tensorflow) (1.3.1)\n",
            "Requirement already satisfied: charset-normalizer<4,>=2 in /usr/local/lib/python3.10/dist-packages (from requests<3,>=2.21.0->tensorboard<2.16,>=2.15->tensorflow) (3.3.2)\n",
            "Requirement already satisfied: idna<4,>=2.5 in /usr/local/lib/python3.10/dist-packages (from requests<3,>=2.21.0->tensorboard<2.16,>=2.15->tensorflow) (3.7)\n",
            "Requirement already satisfied: urllib3<3,>=1.21.1 in /usr/local/lib/python3.10/dist-packages (from requests<3,>=2.21.0->tensorboard<2.16,>=2.15->tensorflow) (2.0.7)\n",
            "Requirement already satisfied: certifi>=2017.4.17 in /usr/local/lib/python3.10/dist-packages (from requests<3,>=2.21.0->tensorboard<2.16,>=2.15->tensorflow) (2024.2.2)\n",
            "Requirement already satisfied: MarkupSafe>=2.1.1 in /usr/local/lib/python3.10/dist-packages (from werkzeug>=1.0.1->tensorboard<2.16,>=2.15->tensorflow) (2.1.5)\n",
            "Requirement already satisfied: pyasn1<0.7.0,>=0.4.6 in /usr/local/lib/python3.10/dist-packages (from pyasn1-modules>=0.2.1->google-auth<3,>=1.6.3->tensorboard<2.16,>=2.15->tensorflow) (0.6.0)\n",
            "Requirement already satisfied: oauthlib>=3.0.0 in /usr/local/lib/python3.10/dist-packages (from requests-oauthlib>=0.7.0->google-auth-oauthlib<2,>=0.5->tensorboard<2.16,>=2.15->tensorflow) (3.2.2)\n"
          ]
        }
      ]
    },
    {
      "cell_type": "code",
      "source": [
        "#Loading the training and validating datasets\n",
        "\n",
        "trainFile = \"/content/trainingDataASL.csv\"\n",
        "trainID = '1tmakkWkKILZp6RhI13aY2wCY8Urs1OTq'\n",
        "if not os.path.isfile(trainFile):\n",
        "  # Downloading the file\n",
        "  gdown.download('https://drive.google.com/uc?id=' + trainID, trainFile, quiet=False)\n",
        "\n",
        "validateFile = \"/content/validatingDataASL.csv\"\n",
        "validateID = '1lA-Qz3d0PMkPDaqoetzqOO_DLX8nCdXk'\n",
        "if not os.path.isfile(validateFile):\n",
        "  # Downloading the file\n",
        "  gdown.download('https://drive.google.com/uc?id=' + validateID, validateFile, quiet=False)\n",
        "\n",
        "testFile = \"/content/testingDataASL.csv\"\n",
        "testID = '1anuMBsprWOrrBJ51NI4WziEh_Ve4EQm1'\n",
        "if not os.path.isfile(testFile):\n",
        "  # Downloading the file\n",
        "  gdown.download('https://drive.google.com/uc?id=' + testID, testFile, quiet=False)"
      ],
      "metadata": {
        "id": "ej4EnUEw2LUL",
        "outputId": "11f2dea4-82cd-46d1-81f0-c68493a63818",
        "colab": {
          "base_uri": "https://localhost:8080/"
        }
      },
      "execution_count": null,
      "outputs": [
        {
          "output_type": "stream",
          "name": "stderr",
          "text": [
            "Downloading...\n",
            "From: https://drive.google.com/uc?id=1tmakkWkKILZp6RhI13aY2wCY8Urs1OTq\n",
            "To: /content/trainingDataASL.csv\n",
            "100%|██████████| 73.5M/73.5M [00:01<00:00, 48.5MB/s]\n",
            "Downloading...\n",
            "From: https://drive.google.com/uc?id=1lA-Qz3d0PMkPDaqoetzqOO_DLX8nCdXk\n",
            "To: /content/validatingDataASL.csv\n",
            "100%|██████████| 10.5M/10.5M [00:00<00:00, 63.9MB/s]\n",
            "Downloading...\n",
            "From: https://drive.google.com/uc?id=1anuMBsprWOrrBJ51NI4WziEh_Ve4EQm1\n",
            "To: /content/testingDataASL.csv\n",
            "100%|██████████| 21.0M/21.0M [00:00<00:00, 122MB/s] \n"
          ]
        }
      ]
    },
    {
      "cell_type": "code",
      "source": [
        "\n",
        "def prepareANNdataset(data: pd.DataFrame):\n",
        "\n",
        "  # Extract labels and data values\n",
        "  data_label = data['label']\n",
        "  data_values = data.drop(['label'], axis=1)\n",
        "\n",
        "  # Reshape data to fit into CNN\n",
        "  X_data = data_values.values\n",
        "  X_data = data_values.values.reshape(-1, 784, 1)\n",
        "\n",
        "  # Normalize pixel intensity to 0-1\n",
        "  X_data = X_data / 255.0\n",
        "\n",
        "  # Reshape labels\n",
        "  y_data = data_label.values\n",
        "  #y_data = data_values.values.reshape(-1, 24)\n",
        "  if y_data.ndim == 1:\n",
        "    y_data = y_data.reshape(-1, 1)\n",
        "\n",
        "  # Reshape labels to desired dimensions\n",
        "  y_data = to_categorical(y_data, num_classes=25)\n",
        "\n",
        "  return X_data, y_data"
      ],
      "metadata": {
        "id": "MV-p6oHt2rp8"
      },
      "execution_count": null,
      "outputs": []
    },
    {
      "cell_type": "code",
      "source": [
        "trainData = pd.read_csv('/content/trainingDataASL.csv')\n",
        "trainData = trainData.sample(frac=1).reset_index(drop=True)\n",
        "xTrain, yTrain = prepareANNdataset(trainData)\n",
        "print(xTrain.shape, yTrain.shape)\n",
        "\n",
        "testData = pd.read_csv('/content/testingDataASL.csv')\n",
        "testData = testData.sample(frac=1).reset_index(drop=True)\n",
        "xTest, yTest = prepareANNdataset(testData)\n",
        "print(xTest.shape, yTest.shape)\n",
        "\n",
        "\n",
        "valData = pd.read_csv('/content/validatingDataASL.csv')\n",
        "valData = valData.sample(frac=1).reset_index(drop=True)\n",
        "xVal, yVal = prepareANNdataset(valData)\n",
        "print(xVal.shape, yVal.shape)\n"
      ],
      "metadata": {
        "id": "C8EKhSHM2uom",
        "outputId": "41830793-6415-4277-a98c-4ce40e912767",
        "colab": {
          "base_uri": "https://localhost:8080/"
        }
      },
      "execution_count": null,
      "outputs": [
        {
          "output_type": "stream",
          "name": "stdout",
          "text": [
            "(24238, 784, 1) (24238, 25)\n",
            "(6925, 784, 1) (6925, 25)\n",
            "(3462, 784, 1) (3462, 25)\n"
          ]
        }
      ]
    },
    {
      "cell_type": "code",
      "source": [
        "xTrain.ndim\n",
        "xVal.ndim\n",
        "xTest.ndim"
      ],
      "metadata": {
        "id": "WN3rMzqn86tn",
        "outputId": "2d6f371b-3cc3-4c9e-bedd-048fc80dce91",
        "colab": {
          "base_uri": "https://localhost:8080/"
        }
      },
      "execution_count": null,
      "outputs": [
        {
          "output_type": "execute_result",
          "data": {
            "text/plain": [
              "3"
            ]
          },
          "metadata": {},
          "execution_count": 24
        }
      ]
    },
    {
      "cell_type": "code",
      "source": [
        "xTrain.shape\n"
      ],
      "metadata": {
        "id": "5TSFSYf19Bm9",
        "outputId": "f259799f-b68e-47cb-9d33-480cdc6dfbfb",
        "colab": {
          "base_uri": "https://localhost:8080/"
        }
      },
      "execution_count": null,
      "outputs": [
        {
          "output_type": "execute_result",
          "data": {
            "text/plain": [
              "(24238, 784, 1)"
            ]
          },
          "metadata": {},
          "execution_count": 34
        }
      ]
    },
    {
      "cell_type": "code",
      "source": [
        "xVal.shape\n"
      ],
      "metadata": {
        "id": "nfCrJ2sz-Agk",
        "outputId": "1efc864b-0839-4873-d6ab-9d7dae674d60",
        "colab": {
          "base_uri": "https://localhost:8080/"
        }
      },
      "execution_count": null,
      "outputs": [
        {
          "output_type": "execute_result",
          "data": {
            "text/plain": [
              "(3462, 28, 28, 1)"
            ]
          },
          "metadata": {},
          "execution_count": 75
        }
      ]
    },
    {
      "cell_type": "code",
      "source": [
        "xTest.shape"
      ],
      "metadata": {
        "id": "HorVOt97-AXj",
        "outputId": "0358e80f-7a48-474b-e56f-63562efdb93c",
        "colab": {
          "base_uri": "https://localhost:8080/"
        }
      },
      "execution_count": null,
      "outputs": [
        {
          "output_type": "execute_result",
          "data": {
            "text/plain": [
              "(6925, 28, 28, 1)"
            ]
          },
          "metadata": {},
          "execution_count": 76
        }
      ]
    },
    {
      "cell_type": "code",
      "source": [
        "xTrain = xTrain.reshape(24238, 784)\n",
        "xVal = xVal.reshape(3462, 784)\n",
        "xTest = xTest.reshape(6925, 784)"
      ],
      "metadata": {
        "id": "QVbZtwwF2wdz"
      },
      "execution_count": null,
      "outputs": []
    },
    {
      "cell_type": "code",
      "source": [],
      "metadata": {
        "id": "fLEIbwhYC5Yp"
      },
      "execution_count": null,
      "outputs": []
    },
    {
      "cell_type": "code",
      "source": [
        "yTrain = to_categorical(yTrain, num_classes = 24)\n",
        "yVal = to_categorical(yVal, num_classes = 24)\n",
        "yTest = to_categorical( yTest, num_classes = 24)"
      ],
      "metadata": {
        "id": "dsUQ8E2Z-xBW"
      },
      "execution_count": null,
      "outputs": []
    },
    {
      "cell_type": "code",
      "source": [],
      "metadata": {
        "id": "CE4JTPmSC6Dy"
      },
      "execution_count": null,
      "outputs": []
    },
    {
      "cell_type": "code",
      "source": [
        "yTrain.shape"
      ],
      "metadata": {
        "id": "uwdEzTNmCw6x",
        "outputId": "a681e3a3-d5bf-4e9e-8560-de50f1b01b7d",
        "colab": {
          "base_uri": "https://localhost:8080/"
        }
      },
      "execution_count": null,
      "outputs": [
        {
          "output_type": "execute_result",
          "data": {
            "text/plain": [
              "(24238, 25)"
            ]
          },
          "metadata": {},
          "execution_count": 35
        }
      ]
    },
    {
      "cell_type": "markdown",
      "source": [
        "#ANN Model"
      ],
      "metadata": {
        "id": "OJnh4wuaTMsq"
      }
    },
    {
      "cell_type": "code",
      "source": [
        "from tensorflow import keras\n",
        "from tensorflow.keras import layers\n"
      ],
      "metadata": {
        "id": "WBXL30Ag44mk"
      },
      "execution_count": null,
      "outputs": []
    },
    {
      "cell_type": "code",
      "source": [
        "#Creating base neural network\n",
        "model = keras.Sequential([\n",
        "    layers.Dense(128, activation='relu', input_shape=(784,)),\n",
        "    layers.BatchNormalization(),\n",
        "    layers.Dense(25, activation='relu'),\n",
        "    layers.Dropout(0.3),\n",
        "    layers.BatchNormalization(),\n",
        "    layers.Dense(25, activation='relu'),\n",
        "    layers.BatchNormalization(),\n",
        "    layers.Dense(25,activation='sigmoid'), # Changed the number of neurons to 10\n",
        "])"
      ],
      "metadata": {
        "id": "K3PbJ2E9TLF0"
      },
      "execution_count": null,
      "outputs": []
    },
    {
      "cell_type": "code",
      "source": [
        "model.summary()"
      ],
      "metadata": {
        "id": "4eB393k31cKq",
        "outputId": "19acae05-7479-4b15-8048-bf59a8a9972d",
        "colab": {
          "base_uri": "https://localhost:8080/"
        }
      },
      "execution_count": null,
      "outputs": [
        {
          "output_type": "stream",
          "name": "stdout",
          "text": [
            "Model: \"sequential_1\"\n",
            "_________________________________________________________________\n",
            " Layer (type)                Output Shape              Param #   \n",
            "=================================================================\n",
            " dense_4 (Dense)             (None, 128)               100480    \n",
            "                                                                 \n",
            " batch_normalization_3 (Bat  (None, 128)               512       \n",
            " chNormalization)                                                \n",
            "                                                                 \n",
            " dense_5 (Dense)             (None, 25)                3225      \n",
            "                                                                 \n",
            " dropout_1 (Dropout)         (None, 25)                0         \n",
            "                                                                 \n",
            " batch_normalization_4 (Bat  (None, 25)                100       \n",
            " chNormalization)                                                \n",
            "                                                                 \n",
            " dense_6 (Dense)             (None, 25)                650       \n",
            "                                                                 \n",
            " batch_normalization_5 (Bat  (None, 25)                100       \n",
            " chNormalization)                                                \n",
            "                                                                 \n",
            " dense_7 (Dense)             (None, 25)                650       \n",
            "                                                                 \n",
            "=================================================================\n",
            "Total params: 105717 (412.96 KB)\n",
            "Trainable params: 105361 (411.57 KB)\n",
            "Non-trainable params: 356 (1.39 KB)\n",
            "_________________________________________________________________\n"
          ]
        }
      ]
    },
    {
      "cell_type": "code",
      "source": [
        "#Compiling the model\n",
        "model.compile(loss=\"categorical_crossentropy\",\n",
        "              optimizer=\"adam\",\n",
        "              metrics = ['accuracy'])"
      ],
      "metadata": {
        "id": "RcCDkaYmTlb-"
      },
      "execution_count": null,
      "outputs": []
    },
    {
      "cell_type": "code",
      "source": [
        "model.fit(xTrain, yTrain, batch_size=100, epochs=100)"
      ],
      "metadata": {
        "id": "pIcSi9xmUQ8s",
        "outputId": "c0fd803d-5f12-4368-fc79-9c0d9b093676",
        "colab": {
          "base_uri": "https://localhost:8080/"
        }
      },
      "execution_count": null,
      "outputs": [
        {
          "output_type": "stream",
          "name": "stdout",
          "text": [
            "Epoch 1/100\n",
            "243/243 [==============================] - 7s 7ms/step - loss: 2.2714 - accuracy: 0.3543\n",
            "Epoch 2/100\n",
            "243/243 [==============================] - 1s 5ms/step - loss: 1.3770 - accuracy: 0.5942\n",
            "Epoch 3/100\n",
            "243/243 [==============================] - 1s 5ms/step - loss: 1.0757 - accuracy: 0.6634\n",
            "Epoch 4/100\n",
            "243/243 [==============================] - 1s 6ms/step - loss: 0.8988 - accuracy: 0.7151\n",
            "Epoch 5/100\n",
            "243/243 [==============================] - 1s 5ms/step - loss: 0.7921 - accuracy: 0.7433\n",
            "Epoch 6/100\n",
            "243/243 [==============================] - 1s 5ms/step - loss: 0.7245 - accuracy: 0.7638\n",
            "Epoch 7/100\n",
            "243/243 [==============================] - 1s 5ms/step - loss: 0.6483 - accuracy: 0.7871\n",
            "Epoch 8/100\n",
            "243/243 [==============================] - 1s 5ms/step - loss: 0.5883 - accuracy: 0.8072\n",
            "Epoch 9/100\n",
            "243/243 [==============================] - 2s 7ms/step - loss: 0.5738 - accuracy: 0.8122\n",
            "Epoch 10/100\n",
            "243/243 [==============================] - 2s 8ms/step - loss: 0.5606 - accuracy: 0.8153\n",
            "Epoch 11/100\n",
            "243/243 [==============================] - 1s 5ms/step - loss: 0.5392 - accuracy: 0.8213\n",
            "Epoch 12/100\n",
            "243/243 [==============================] - 1s 5ms/step - loss: 0.4812 - accuracy: 0.8406\n",
            "Epoch 13/100\n",
            "243/243 [==============================] - 1s 5ms/step - loss: 0.4758 - accuracy: 0.8415\n",
            "Epoch 14/100\n",
            "243/243 [==============================] - 1s 5ms/step - loss: 0.4856 - accuracy: 0.8395\n",
            "Epoch 15/100\n",
            "243/243 [==============================] - 1s 5ms/step - loss: 0.4530 - accuracy: 0.8517\n",
            "Epoch 16/100\n",
            "243/243 [==============================] - 1s 6ms/step - loss: 0.4656 - accuracy: 0.8447\n",
            "Epoch 17/100\n",
            "243/243 [==============================] - 1s 5ms/step - loss: 0.4538 - accuracy: 0.8489\n",
            "Epoch 18/100\n",
            "243/243 [==============================] - 2s 6ms/step - loss: 0.4360 - accuracy: 0.8555\n",
            "Epoch 19/100\n",
            "243/243 [==============================] - 2s 8ms/step - loss: 0.4369 - accuracy: 0.8534\n",
            "Epoch 20/100\n",
            "243/243 [==============================] - 2s 7ms/step - loss: 0.4035 - accuracy: 0.8670\n",
            "Epoch 21/100\n",
            "243/243 [==============================] - 1s 5ms/step - loss: 0.3962 - accuracy: 0.8688\n",
            "Epoch 22/100\n",
            "243/243 [==============================] - 1s 5ms/step - loss: 0.3756 - accuracy: 0.8757\n",
            "Epoch 23/100\n",
            "243/243 [==============================] - 1s 5ms/step - loss: 0.3808 - accuracy: 0.8707\n",
            "Epoch 24/100\n",
            "243/243 [==============================] - 1s 6ms/step - loss: 0.3758 - accuracy: 0.8730\n",
            "Epoch 25/100\n",
            "243/243 [==============================] - 1s 5ms/step - loss: 0.3755 - accuracy: 0.8753\n",
            "Epoch 26/100\n",
            "243/243 [==============================] - 1s 6ms/step - loss: 0.3595 - accuracy: 0.8818\n",
            "Epoch 27/100\n",
            "243/243 [==============================] - 1s 6ms/step - loss: 0.3582 - accuracy: 0.8819\n",
            "Epoch 28/100\n",
            "243/243 [==============================] - 2s 8ms/step - loss: 0.3603 - accuracy: 0.8796\n",
            "Epoch 29/100\n",
            "243/243 [==============================] - 2s 10ms/step - loss: 0.3636 - accuracy: 0.8800\n",
            "Epoch 30/100\n",
            "243/243 [==============================] - 2s 8ms/step - loss: 0.3545 - accuracy: 0.8816\n",
            "Epoch 31/100\n",
            "243/243 [==============================] - 1s 5ms/step - loss: 0.3479 - accuracy: 0.8855\n",
            "Epoch 32/100\n",
            "243/243 [==============================] - 1s 5ms/step - loss: 0.3535 - accuracy: 0.8862\n",
            "Epoch 33/100\n",
            "243/243 [==============================] - 1s 5ms/step - loss: 0.3381 - accuracy: 0.8881\n",
            "Epoch 34/100\n",
            "243/243 [==============================] - 1s 5ms/step - loss: 0.3268 - accuracy: 0.8914\n",
            "Epoch 35/100\n",
            "243/243 [==============================] - 1s 5ms/step - loss: 0.3211 - accuracy: 0.8931\n",
            "Epoch 36/100\n",
            "243/243 [==============================] - 1s 6ms/step - loss: 0.3241 - accuracy: 0.8946\n",
            "Epoch 37/100\n",
            "243/243 [==============================] - 1s 5ms/step - loss: 0.3231 - accuracy: 0.8940\n",
            "Epoch 38/100\n",
            "243/243 [==============================] - 2s 7ms/step - loss: 0.3172 - accuracy: 0.8964\n",
            "Epoch 39/100\n",
            "243/243 [==============================] - 2s 8ms/step - loss: 0.2997 - accuracy: 0.9020\n",
            "Epoch 40/100\n",
            "243/243 [==============================] - 2s 7ms/step - loss: 0.3134 - accuracy: 0.8962\n",
            "Epoch 41/100\n",
            "243/243 [==============================] - 1s 5ms/step - loss: 0.3100 - accuracy: 0.8990\n",
            "Epoch 42/100\n",
            "243/243 [==============================] - 1s 5ms/step - loss: 0.2939 - accuracy: 0.9069\n",
            "Epoch 43/100\n",
            "243/243 [==============================] - 1s 5ms/step - loss: 0.2867 - accuracy: 0.9045\n",
            "Epoch 44/100\n",
            "243/243 [==============================] - 1s 5ms/step - loss: 0.2772 - accuracy: 0.9099\n",
            "Epoch 45/100\n",
            "243/243 [==============================] - 1s 5ms/step - loss: 0.2815 - accuracy: 0.9055\n",
            "Epoch 46/100\n",
            "243/243 [==============================] - 1s 5ms/step - loss: 0.3052 - accuracy: 0.9000\n",
            "Epoch 47/100\n",
            "243/243 [==============================] - 1s 5ms/step - loss: 0.2943 - accuracy: 0.9034\n",
            "Epoch 48/100\n",
            "243/243 [==============================] - 2s 7ms/step - loss: 0.2861 - accuracy: 0.9060\n",
            "Epoch 49/100\n",
            "243/243 [==============================] - 2s 8ms/step - loss: 0.2993 - accuracy: 0.9030\n",
            "Epoch 50/100\n",
            "243/243 [==============================] - 1s 5ms/step - loss: 0.2703 - accuracy: 0.9113\n",
            "Epoch 51/100\n",
            "243/243 [==============================] - 1s 5ms/step - loss: 0.2771 - accuracy: 0.9080\n",
            "Epoch 52/100\n",
            "243/243 [==============================] - 1s 5ms/step - loss: 0.2729 - accuracy: 0.9118\n",
            "Epoch 53/100\n",
            "243/243 [==============================] - 1s 5ms/step - loss: 0.2770 - accuracy: 0.9101\n",
            "Epoch 54/100\n",
            "243/243 [==============================] - 1s 5ms/step - loss: 0.2753 - accuracy: 0.9100\n",
            "Epoch 55/100\n",
            "243/243 [==============================] - 1s 5ms/step - loss: 0.2762 - accuracy: 0.9108\n",
            "Epoch 56/100\n",
            "243/243 [==============================] - 1s 5ms/step - loss: 0.2645 - accuracy: 0.9125\n",
            "Epoch 57/100\n",
            "243/243 [==============================] - 2s 7ms/step - loss: 0.2730 - accuracy: 0.9107\n",
            "Epoch 58/100\n",
            "243/243 [==============================] - 2s 8ms/step - loss: 0.2535 - accuracy: 0.9155\n",
            "Epoch 59/100\n",
            "243/243 [==============================] - 2s 9ms/step - loss: 0.2592 - accuracy: 0.9146\n",
            "Epoch 60/100\n",
            "243/243 [==============================] - 1s 5ms/step - loss: 0.2633 - accuracy: 0.9120\n",
            "Epoch 61/100\n",
            "243/243 [==============================] - 1s 5ms/step - loss: 0.2662 - accuracy: 0.9126\n",
            "Epoch 62/100\n",
            "243/243 [==============================] - 1s 5ms/step - loss: 0.2449 - accuracy: 0.9184\n",
            "Epoch 63/100\n",
            "243/243 [==============================] - 1s 5ms/step - loss: 0.2509 - accuracy: 0.9184\n",
            "Epoch 64/100\n",
            "243/243 [==============================] - 1s 5ms/step - loss: 0.2538 - accuracy: 0.9178\n",
            "Epoch 65/100\n",
            "243/243 [==============================] - 1s 6ms/step - loss: 0.2434 - accuracy: 0.9205\n",
            "Epoch 66/100\n",
            "243/243 [==============================] - 1s 6ms/step - loss: 0.2441 - accuracy: 0.9204\n",
            "Epoch 67/100\n",
            "243/243 [==============================] - 2s 8ms/step - loss: 0.2324 - accuracy: 0.9239\n",
            "Epoch 68/100\n",
            "243/243 [==============================] - 2s 8ms/step - loss: 0.2540 - accuracy: 0.9164\n",
            "Epoch 69/100\n",
            "243/243 [==============================] - 1s 5ms/step - loss: 0.2520 - accuracy: 0.9163\n",
            "Epoch 70/100\n",
            "243/243 [==============================] - 1s 5ms/step - loss: 0.2416 - accuracy: 0.9201\n",
            "Epoch 71/100\n",
            "243/243 [==============================] - 2s 8ms/step - loss: 0.2608 - accuracy: 0.9155\n",
            "Epoch 72/100\n",
            "243/243 [==============================] - 2s 7ms/step - loss: 0.2348 - accuracy: 0.9229\n",
            "Epoch 73/100\n",
            "243/243 [==============================] - 1s 5ms/step - loss: 0.2498 - accuracy: 0.9171\n",
            "Epoch 74/100\n",
            "243/243 [==============================] - 1s 5ms/step - loss: 0.2409 - accuracy: 0.9197\n",
            "Epoch 75/100\n",
            "243/243 [==============================] - 1s 6ms/step - loss: 0.2444 - accuracy: 0.9201\n",
            "Epoch 76/100\n",
            "243/243 [==============================] - 2s 8ms/step - loss: 0.2379 - accuracy: 0.9231\n",
            "Epoch 77/100\n",
            "243/243 [==============================] - 2s 8ms/step - loss: 0.2232 - accuracy: 0.9289\n",
            "Epoch 78/100\n",
            "243/243 [==============================] - 1s 5ms/step - loss: 0.2233 - accuracy: 0.9278\n",
            "Epoch 79/100\n",
            "243/243 [==============================] - 1s 6ms/step - loss: 0.2209 - accuracy: 0.9292\n",
            "Epoch 80/100\n",
            "243/243 [==============================] - 1s 5ms/step - loss: 0.2439 - accuracy: 0.9200\n",
            "Epoch 81/100\n",
            "243/243 [==============================] - 1s 5ms/step - loss: 0.2325 - accuracy: 0.9230\n",
            "Epoch 82/100\n",
            "243/243 [==============================] - 1s 5ms/step - loss: 0.2165 - accuracy: 0.9298\n",
            "Epoch 83/100\n",
            "243/243 [==============================] - 1s 5ms/step - loss: 0.2338 - accuracy: 0.9231\n",
            "Epoch 84/100\n",
            "243/243 [==============================] - 1s 5ms/step - loss: 0.2266 - accuracy: 0.9254\n",
            "Epoch 85/100\n",
            "243/243 [==============================] - 2s 6ms/step - loss: 0.2242 - accuracy: 0.9280\n",
            "Epoch 86/100\n",
            "243/243 [==============================] - 2s 8ms/step - loss: 0.2301 - accuracy: 0.9249\n",
            "Epoch 87/100\n",
            "243/243 [==============================] - 2s 8ms/step - loss: 0.2216 - accuracy: 0.9276\n",
            "Epoch 88/100\n",
            "243/243 [==============================] - 1s 5ms/step - loss: 0.2090 - accuracy: 0.9294\n",
            "Epoch 89/100\n",
            "243/243 [==============================] - 1s 6ms/step - loss: 0.2236 - accuracy: 0.9280\n",
            "Epoch 90/100\n",
            "243/243 [==============================] - 1s 5ms/step - loss: 0.2200 - accuracy: 0.9285\n",
            "Epoch 91/100\n",
            "243/243 [==============================] - 1s 6ms/step - loss: 0.2190 - accuracy: 0.9286\n",
            "Epoch 92/100\n",
            "243/243 [==============================] - 1s 5ms/step - loss: 0.2035 - accuracy: 0.9332\n",
            "Epoch 93/100\n",
            "243/243 [==============================] - 1s 5ms/step - loss: 0.2130 - accuracy: 0.9311\n",
            "Epoch 94/100\n",
            "243/243 [==============================] - 1s 5ms/step - loss: 0.2152 - accuracy: 0.9277\n",
            "Epoch 95/100\n",
            "243/243 [==============================] - 2s 7ms/step - loss: 0.2097 - accuracy: 0.9306\n",
            "Epoch 96/100\n",
            "243/243 [==============================] - 2s 8ms/step - loss: 0.2202 - accuracy: 0.9290\n",
            "Epoch 97/100\n",
            "243/243 [==============================] - 1s 6ms/step - loss: 0.2238 - accuracy: 0.9276\n",
            "Epoch 98/100\n",
            "243/243 [==============================] - 1s 6ms/step - loss: 0.2038 - accuracy: 0.9332\n",
            "Epoch 99/100\n",
            "243/243 [==============================] - 1s 5ms/step - loss: 0.2057 - accuracy: 0.9339\n",
            "Epoch 100/100\n",
            "243/243 [==============================] - 1s 5ms/step - loss: 0.2086 - accuracy: 0.9318\n"
          ]
        },
        {
          "output_type": "execute_result",
          "data": {
            "text/plain": [
              "<keras.src.callbacks.History at 0x7a39b63de8c0>"
            ]
          },
          "metadata": {},
          "execution_count": 44
        }
      ]
    },
    {
      "cell_type": "code",
      "source": [
        "# save for future use\n",
        "model.save(\"ANNModel1.keras\")"
      ],
      "metadata": {
        "id": "dlM6xNYD3kDb"
      },
      "execution_count": null,
      "outputs": []
    },
    {
      "cell_type": "code",
      "source": [
        "#Loading the combined dataset\n",
        "input_filename = \"ANNModel1.keras\"\n",
        "\n",
        "#Change file address\n",
        "# Replace 'file_id' with the ID of your file\n",
        "file_id = '1AZOEkZppy0o4eTsUhn3H8OqwRSIWgYkz'\n",
        "if not os.path.isfile(input_filename):\n",
        "  # Downloading the file\n",
        "  gdown.download('https://drive.google.com/uc?id=' + file_id, input_filename, quiet=False)"
      ],
      "metadata": {
        "id": "dqokMYq33ol7"
      },
      "execution_count": null,
      "outputs": []
    },
    {
      "cell_type": "code",
      "source": [
        "model = load_model('ANNModel1.keras')"
      ],
      "metadata": {
        "id": "N6kwRxxn3wlT"
      },
      "execution_count": null,
      "outputs": []
    },
    {
      "cell_type": "code",
      "source": [
        "(testing_loss, testing_accuracy)=model.evaluate(xVal,yVal,batch_size=128)\n",
        "print(f\"Testing Loss: {testing_loss:.4f}, Testing Accuracy: {testing_accuracy:.4f}\")\n",
        "print('MODEL ACCURACY = {}%'.format(testing_accuracy*100))"
      ],
      "metadata": {
        "id": "4yksuM1IEk67",
        "outputId": "82433013-b7ad-4f82-ccef-413765a469f0",
        "colab": {
          "base_uri": "https://localhost:8080/"
        }
      },
      "execution_count": null,
      "outputs": [
        {
          "output_type": "stream",
          "name": "stdout",
          "text": [
            "28/28 [==============================] - 0s 4ms/step - loss: 0.8447 - accuracy: 0.8134\n",
            "Testing Loss: 0.8447, Testing Accuracy: 0.8134\n",
            "MODEL ACCURACY = 81.34026527404785%\n"
          ]
        }
      ]
    },
    {
      "cell_type": "code",
      "source": [
        "model.fit(xVal, yVal, batch_size=100, epochs=50)"
      ],
      "metadata": {
        "id": "Bo3CKSAWANm9",
        "outputId": "44691dc4-f64e-42a3-9749-177e2bcff006",
        "colab": {
          "base_uri": "https://localhost:8080/"
        }
      },
      "execution_count": null,
      "outputs": [
        {
          "output_type": "stream",
          "name": "stdout",
          "text": [
            "Epoch 1/50\n",
            "35/35 [==============================] - 2s 6ms/step - loss: 0.2215 - accuracy: 0.9275\n",
            "Epoch 2/50\n",
            "35/35 [==============================] - 0s 6ms/step - loss: 0.2124 - accuracy: 0.9298\n",
            "Epoch 3/50\n",
            "35/35 [==============================] - 0s 6ms/step - loss: 0.1992 - accuracy: 0.9344\n",
            "Epoch 4/50\n",
            "35/35 [==============================] - 0s 6ms/step - loss: 0.1865 - accuracy: 0.9422\n",
            "Epoch 5/50\n",
            "35/35 [==============================] - 0s 6ms/step - loss: 0.1887 - accuracy: 0.9353\n",
            "Epoch 6/50\n",
            "35/35 [==============================] - 0s 5ms/step - loss: 0.1949 - accuracy: 0.9399\n",
            "Epoch 7/50\n",
            "35/35 [==============================] - 0s 6ms/step - loss: 0.1994 - accuracy: 0.9356\n",
            "Epoch 8/50\n",
            "35/35 [==============================] - 0s 5ms/step - loss: 0.1900 - accuracy: 0.9367\n",
            "Epoch 9/50\n",
            "35/35 [==============================] - 0s 6ms/step - loss: 0.1901 - accuracy: 0.9367\n",
            "Epoch 10/50\n",
            "35/35 [==============================] - 0s 6ms/step - loss: 0.1959 - accuracy: 0.9315\n",
            "Epoch 11/50\n",
            "35/35 [==============================] - 0s 5ms/step - loss: 0.1914 - accuracy: 0.9373\n",
            "Epoch 12/50\n",
            "35/35 [==============================] - 0s 5ms/step - loss: 0.1701 - accuracy: 0.9445\n",
            "Epoch 13/50\n",
            "35/35 [==============================] - 0s 6ms/step - loss: 0.1828 - accuracy: 0.9414\n",
            "Epoch 14/50\n",
            "35/35 [==============================] - 0s 5ms/step - loss: 0.1973 - accuracy: 0.9356\n",
            "Epoch 15/50\n",
            "35/35 [==============================] - 0s 6ms/step - loss: 0.1989 - accuracy: 0.9341\n",
            "Epoch 16/50\n",
            "35/35 [==============================] - 0s 6ms/step - loss: 0.1956 - accuracy: 0.9347\n",
            "Epoch 17/50\n",
            "35/35 [==============================] - 0s 6ms/step - loss: 0.2104 - accuracy: 0.9327\n",
            "Epoch 18/50\n",
            "35/35 [==============================] - 0s 6ms/step - loss: 0.1927 - accuracy: 0.9408\n",
            "Epoch 19/50\n",
            "35/35 [==============================] - 0s 6ms/step - loss: 0.2367 - accuracy: 0.9235\n",
            "Epoch 20/50\n",
            "35/35 [==============================] - 0s 6ms/step - loss: 0.2119 - accuracy: 0.9315\n",
            "Epoch 21/50\n",
            "35/35 [==============================] - 0s 5ms/step - loss: 0.1873 - accuracy: 0.9373\n",
            "Epoch 22/50\n",
            "35/35 [==============================] - 0s 6ms/step - loss: 0.1905 - accuracy: 0.9373\n",
            "Epoch 23/50\n",
            "35/35 [==============================] - 0s 5ms/step - loss: 0.1970 - accuracy: 0.9367\n",
            "Epoch 24/50\n",
            "35/35 [==============================] - 0s 6ms/step - loss: 0.1947 - accuracy: 0.9379\n",
            "Epoch 25/50\n",
            "35/35 [==============================] - 0s 6ms/step - loss: 0.1742 - accuracy: 0.9466\n",
            "Epoch 26/50\n",
            "35/35 [==============================] - 0s 5ms/step - loss: 0.1840 - accuracy: 0.9411\n",
            "Epoch 27/50\n",
            "35/35 [==============================] - 0s 6ms/step - loss: 0.1770 - accuracy: 0.9428\n",
            "Epoch 28/50\n",
            "35/35 [==============================] - 0s 5ms/step - loss: 0.1991 - accuracy: 0.9370\n",
            "Epoch 29/50\n",
            "35/35 [==============================] - 0s 6ms/step - loss: 0.2026 - accuracy: 0.9318\n",
            "Epoch 30/50\n",
            "35/35 [==============================] - 0s 6ms/step - loss: 0.1747 - accuracy: 0.9437\n",
            "Epoch 31/50\n",
            "35/35 [==============================] - 0s 5ms/step - loss: 0.1978 - accuracy: 0.9370\n",
            "Epoch 32/50\n",
            "35/35 [==============================] - 0s 6ms/step - loss: 0.2267 - accuracy: 0.9206\n",
            "Epoch 33/50\n",
            "35/35 [==============================] - 0s 5ms/step - loss: 0.1930 - accuracy: 0.9408\n",
            "Epoch 34/50\n",
            "35/35 [==============================] - 0s 5ms/step - loss: 0.1972 - accuracy: 0.9344\n",
            "Epoch 35/50\n",
            "35/35 [==============================] - 0s 6ms/step - loss: 0.1743 - accuracy: 0.9422\n",
            "Epoch 36/50\n",
            "35/35 [==============================] - 0s 5ms/step - loss: 0.1746 - accuracy: 0.9399\n",
            "Epoch 37/50\n",
            "35/35 [==============================] - 0s 6ms/step - loss: 0.1888 - accuracy: 0.9440\n",
            "Epoch 38/50\n",
            "35/35 [==============================] - 0s 6ms/step - loss: 0.1869 - accuracy: 0.9396\n",
            "Epoch 39/50\n",
            "35/35 [==============================] - 0s 5ms/step - loss: 0.1960 - accuracy: 0.9356\n",
            "Epoch 40/50\n",
            "35/35 [==============================] - 0s 6ms/step - loss: 0.2007 - accuracy: 0.9324\n",
            "Epoch 41/50\n",
            "35/35 [==============================] - 0s 8ms/step - loss: 0.1675 - accuracy: 0.9523\n",
            "Epoch 42/50\n",
            "35/35 [==============================] - 0s 8ms/step - loss: 0.1933 - accuracy: 0.9391\n",
            "Epoch 43/50\n",
            "35/35 [==============================] - 0s 8ms/step - loss: 0.1870 - accuracy: 0.9399\n",
            "Epoch 44/50\n",
            "35/35 [==============================] - 0s 8ms/step - loss: 0.1905 - accuracy: 0.9391\n",
            "Epoch 45/50\n",
            "35/35 [==============================] - 0s 7ms/step - loss: 0.1824 - accuracy: 0.9434\n",
            "Epoch 46/50\n",
            "35/35 [==============================] - 0s 8ms/step - loss: 0.1775 - accuracy: 0.9385\n",
            "Epoch 47/50\n",
            "35/35 [==============================] - 0s 8ms/step - loss: 0.1850 - accuracy: 0.9428\n",
            "Epoch 48/50\n",
            "35/35 [==============================] - 0s 8ms/step - loss: 0.1867 - accuracy: 0.9414\n",
            "Epoch 49/50\n",
            "35/35 [==============================] - 0s 8ms/step - loss: 0.1733 - accuracy: 0.9431\n",
            "Epoch 50/50\n",
            "35/35 [==============================] - 0s 8ms/step - loss: 0.1896 - accuracy: 0.9402\n"
          ]
        },
        {
          "output_type": "execute_result",
          "data": {
            "text/plain": [
              "<keras.src.callbacks.History at 0x7a39b63c1de0>"
            ]
          },
          "metadata": {},
          "execution_count": 50
        }
      ]
    },
    {
      "cell_type": "code",
      "source": [
        "model.save(\"ANNModel1.keras\")"
      ],
      "metadata": {
        "id": "dVxv3dQ_Etm1"
      },
      "execution_count": null,
      "outputs": []
    },
    {
      "cell_type": "code",
      "source": [
        "#Loading the combined dataset\n",
        "input_filename = \"ANNModel1AfterVal.keras\"\n",
        "\n",
        "#Change file address\n",
        "# Replace 'file_id' with the ID of your file\n",
        "file_id = '1wUyMxBXtRK8Fpw8RTCcn7VFbt0kWm2ZS'\n",
        "if not os.path.isfile(input_filename):\n",
        "  # Downloading the file\n",
        "  gdown.download('https://drive.google.com/uc?id=' + file_id, input_filename, quiet=False)\n"
      ],
      "metadata": {
        "id": "JZD0uJCXE8b_",
        "outputId": "c150a11d-86cb-4676-849f-78c12de3f3f0",
        "colab": {
          "base_uri": "https://localhost:8080/"
        }
      },
      "execution_count": null,
      "outputs": [
        {
          "output_type": "stream",
          "name": "stderr",
          "text": [
            "Downloading...\n",
            "From: https://drive.google.com/uc?id=1wUyMxBXtRK8Fpw8RTCcn7VFbt0kWm2ZS\n",
            "To: /content/ANNModel1AfterVal.keras\n",
            "100%|██████████| 1.31M/1.31M [00:00<00:00, 154MB/s]\n"
          ]
        }
      ]
    },
    {
      "cell_type": "code",
      "source": [
        "model = load_model('ANNModel1AfterVal.keras')"
      ],
      "metadata": {
        "id": "KYoORwkFFR1k"
      },
      "execution_count": null,
      "outputs": []
    },
    {
      "cell_type": "code",
      "source": [
        "(testing_loss, testing_accuracy)=model.evaluate(xTrain,yTrain,batch_size=128)\n",
        "print(f\"Testing Loss: {testing_loss:.4f}, Testing Accuracy: {testing_accuracy:.4f}\")\n",
        "print('MODEL ACCURACY = {}%'.format(testing_accuracy*100))"
      ],
      "metadata": {
        "id": "he4GwlYD30ZB",
        "outputId": "8708ddea-47fb-443c-c202-ce8ad8944955",
        "colab": {
          "base_uri": "https://localhost:8080/"
        }
      },
      "execution_count": null,
      "outputs": [
        {
          "output_type": "stream",
          "name": "stdout",
          "text": [
            "190/190 [==============================] - 1s 3ms/step - loss: 1.4483 - accuracy: 0.7009\n",
            "Testing Loss: 1.4483, Testing Accuracy: 0.7009\n",
            "MODEL ACCURACY = 70.08829116821289%\n"
          ]
        }
      ]
    },
    {
      "cell_type": "code",
      "source": [
        "(testing_loss, testing_accuracy)=model.evaluate(xVal,yVal,batch_size=128)\n",
        "print(f\"Testing Loss: {testing_loss:.4f}, Testing Accuracy: {testing_accuracy:.4f}\")\n",
        "print('MODEL ACCURACY = {}%'.format(testing_accuracy*100))"
      ],
      "metadata": {
        "id": "f_m4gTtPBt8e",
        "outputId": "7816bfbe-de7d-4466-abaf-e436cacf52d3",
        "colab": {
          "base_uri": "https://localhost:8080/"
        }
      },
      "execution_count": null,
      "outputs": [
        {
          "output_type": "stream",
          "name": "stdout",
          "text": [
            "28/28 [==============================] - 0s 10ms/step - loss: 1.3848 - accuracy: 0.7091\n",
            "Testing Loss: 1.3848, Testing Accuracy: 0.7091\n",
            "MODEL ACCURACY = 70.912766456604%\n"
          ]
        }
      ]
    },
    {
      "cell_type": "code",
      "source": [
        "(testing_loss, testing_accuracy)=model.evaluate(xTest,yTest,batch_size=128)\n",
        "print(f\"Testing Loss: {testing_loss:.4f}, Testing Accuracy: {testing_accuracy:.4f}\")\n",
        "print('MODEL ACCURACY = {}%'.format(testing_accuracy*100))"
      ],
      "metadata": {
        "id": "EF8QTEbIGg_O",
        "outputId": "8a3f201e-e141-4975-f243-d036bcdf3fe4",
        "colab": {
          "base_uri": "https://localhost:8080/"
        }
      },
      "execution_count": null,
      "outputs": [
        {
          "output_type": "stream",
          "name": "stdout",
          "text": [
            "55/55 [==============================] - 0s 3ms/step - loss: 1.4690 - accuracy: 0.6960\n",
            "Testing Loss: 1.4690, Testing Accuracy: 0.6960\n",
            "MODEL ACCURACY = 69.60288882255554%\n"
          ]
        }
      ]
    },
    {
      "cell_type": "code",
      "source": [],
      "metadata": {
        "id": "BNFc63SpGj6o"
      },
      "execution_count": null,
      "outputs": []
    },
    {
      "cell_type": "markdown",
      "source": [
        "# Live Video Input"
      ],
      "metadata": {
        "id": "mQaulE9r9KrE"
      }
    },
    {
      "cell_type": "markdown",
      "source": [
        "### Helper Functions"
      ],
      "metadata": {
        "id": "PrRgiPfJ9S8D"
      }
    },
    {
      "cell_type": "code",
      "source": [
        "# function to convert the JavaScript object into an OpenCV image\n",
        "def js_to_image(js_reply):\n",
        "  \"\"\"\n",
        "  Params:\n",
        "          js_reply: JavaScript object containing image from webcam\n",
        "  Returns:\n",
        "          img: OpenCV BGR image\n",
        "  \"\"\"\n",
        "  # decode base64 image\n",
        "  image_bytes = b64decode(js_reply.split(',')[1])\n",
        "  # convert bytes to numpy array\n",
        "  jpg_as_np = np.frombuffer(image_bytes, dtype=np.uint8)\n",
        "  # decode numpy array into OpenCV BGR image\n",
        "  img = cv2.imdecode(jpg_as_np, flags=1)\n",
        "\n",
        "  return img\n",
        "\n",
        "# function to convert OpenCV Rectangle bounding box image into base64 byte string to be overlayed on video stream\n",
        "def bbox_to_bytes(bbox_array):\n",
        "  \"\"\"\n",
        "  Params:\n",
        "          bbox_array: Numpy array (pixels) containing rectangle to overlay on video stream.\n",
        "  Returns:\n",
        "        bytes: Base64 image byte string\n",
        "  \"\"\"\n",
        "  # convert array into PIL image\n",
        "  bbox_PIL = PIL.Image.fromarray(bbox_array, 'RGBA')\n",
        "  iobuf = io.BytesIO()\n",
        "  # format bbox into png for return\n",
        "  bbox_PIL.save(iobuf, format='png')\n",
        "  # format return string\n",
        "  bbox_bytes = 'data:image/png;base64,{}'.format((str(b64encode(iobuf.getvalue()), 'utf-8')))\n",
        "\n",
        "  return bbox_bytes"
      ],
      "metadata": {
        "id": "EqcRYd1o9O4j"
      },
      "execution_count": null,
      "outputs": []
    },
    {
      "cell_type": "code",
      "source": [
        "# JavaScript to properly create our live video stream using our webcam as input\n",
        "def video_stream():\n",
        "  js = Javascript('''\n",
        "    var video;\n",
        "    var div = null;\n",
        "    var stream;\n",
        "    var captureCanvas;\n",
        "    var imgElement;\n",
        "    var labelElement;\n",
        "\n",
        "    var pendingResolve = null;\n",
        "    var shutdown = false;\n",
        "\n",
        "    function removeDom() {\n",
        "       stream.getVideoTracks()[0].stop();\n",
        "       video.remove();\n",
        "       div.remove();\n",
        "       video = null;\n",
        "       div = null;\n",
        "       stream = null;\n",
        "       imgElement = null;\n",
        "       captureCanvas = null;\n",
        "       labelElement = null;\n",
        "    }\n",
        "\n",
        "    function onAnimationFrame() {\n",
        "      if (!shutdown) {\n",
        "        window.requestAnimationFrame(onAnimationFrame);\n",
        "      }\n",
        "      if (pendingResolve) {\n",
        "        var result = \"\";\n",
        "        if (!shutdown) {\n",
        "          captureCanvas.getContext('2d').drawImage(video, 0, 0, 640, 480);\n",
        "          result = captureCanvas.toDataURL('image/jpeg', 0.8)\n",
        "        }\n",
        "        var lp = pendingResolve;\n",
        "        pendingResolve = null;\n",
        "        lp(result);\n",
        "      }\n",
        "    }\n",
        "\n",
        "    async function createDom() {\n",
        "      if (div !== null) {\n",
        "        return stream;\n",
        "      }\n",
        "\n",
        "      div = document.createElement('div');\n",
        "      div.style.border = '2px solid black';\n",
        "      div.style.padding = '3px';\n",
        "      div.style.width = '100%';\n",
        "      div.style.maxWidth = '600px';\n",
        "      document.body.appendChild(div);\n",
        "\n",
        "      const modelOut = document.createElement('div');\n",
        "      modelOut.innerHTML = \"<span>Status:</span>\";\n",
        "      labelElement = document.createElement('span');\n",
        "      labelElement.innerText = 'No data';\n",
        "      labelElement.style.fontWeight = 'bold';\n",
        "      modelOut.appendChild(labelElement);\n",
        "      div.appendChild(modelOut);\n",
        "\n",
        "      video = document.createElement('video');\n",
        "      video.style.display = 'block';\n",
        "      video.width = div.clientWidth - 6;\n",
        "      video.setAttribute('playsinline', '');\n",
        "      video.onclick = () => { shutdown = true; };\n",
        "      stream = await navigator.mediaDevices.getUserMedia(\n",
        "          {video: { facingMode: \"environment\"}});\n",
        "      div.appendChild(video);\n",
        "\n",
        "      imgElement = document.createElement('img');\n",
        "      imgElement.style.position = 'absolute';\n",
        "      imgElement.style.zIndex = 1;\n",
        "      imgElement.onclick = () => { shutdown = true; };\n",
        "      div.appendChild(imgElement);\n",
        "\n",
        "      const instruction = document.createElement('div');\n",
        "      instruction.innerHTML =\n",
        "          '<span style=\"color: red; font-weight: bold;\">' +\n",
        "          'When finished, click here or on the video to stop this demo</span>';\n",
        "      div.appendChild(instruction);\n",
        "      instruction.onclick = () => { shutdown = true; };\n",
        "\n",
        "      video.srcObject = stream;\n",
        "      await video.play();\n",
        "\n",
        "      captureCanvas = document.createElement('canvas');\n",
        "      captureCanvas.width = 640; //video.videoWidth;\n",
        "      captureCanvas.height = 480; //video.videoHeight;\n",
        "      window.requestAnimationFrame(onAnimationFrame);\n",
        "\n",
        "      return stream;\n",
        "    }\n",
        "    async function stream_frame(label, imgData) {\n",
        "      if (shutdown) {\n",
        "        removeDom();\n",
        "        shutdown = false;\n",
        "        return '';\n",
        "      }\n",
        "\n",
        "      var preCreate = Date.now();\n",
        "      stream = await createDom();\n",
        "\n",
        "      var preShow = Date.now();\n",
        "      if (label != \"\") {\n",
        "        labelElement.innerHTML = label;\n",
        "      }\n",
        "\n",
        "      if (imgData != \"\") {\n",
        "        var videoRect = video.getClientRects()[0];\n",
        "        imgElement.style.top = videoRect.top + \"px\";\n",
        "        imgElement.style.left = videoRect.left + \"px\";\n",
        "        imgElement.style.width = videoRect.width + \"px\";\n",
        "        imgElement.style.height = videoRect.height + \"px\";\n",
        "        imgElement.src = imgData;\n",
        "      }\n",
        "\n",
        "      var preCapture = Date.now();\n",
        "      var result = await new Promise(function(resolve, reject) {\n",
        "        pendingResolve = resolve;\n",
        "      });\n",
        "      shutdown = false;\n",
        "\n",
        "      return {'create': preShow - preCreate,\n",
        "              'show': preCapture - preShow,\n",
        "              'capture': Date.now() - preCapture,\n",
        "              'img': result};\n",
        "    }\n",
        "    ''')\n",
        "\n",
        "  display(js)\n",
        "\n",
        "def video_frame(label, bbox):\n",
        "  data = eval_js('stream_frame(\"{}\", \"{}\")'.format(label, bbox))\n",
        "  return data"
      ],
      "metadata": {
        "id": "_VHqxN1V9WCP"
      },
      "execution_count": null,
      "outputs": []
    },
    {
      "cell_type": "markdown",
      "source": [
        "# Camera Feed"
      ],
      "metadata": {
        "id": "_0D3G81d9YnZ"
      }
    },
    {
      "cell_type": "code",
      "source": [
        "# start streaming video from webcam\n",
        "mphands = mp.solutions.hands\n",
        "hands = mphands.Hands()\n",
        "mp_drawing = mp.solutions.drawing_utils\n",
        "video_stream()\n",
        "# label for video\n",
        "label_html = 'Capturing...'\n",
        "# initialze bounding box to empty\n",
        "bbox = ''\n",
        "count = 0\n",
        "\n",
        "while True:\n",
        "    try:\n",
        "      js_reply = video_frame(label_html, bbox)\n",
        "      if not js_reply:\n",
        "          break\n",
        "\n",
        "      # convert JS response to OpenCV Image\n",
        "      img = js_to_image(js_reply[\"img\"])\n",
        "      # create transparent overlay for bounding box\n",
        "      bbox_array = np.zeros([480,640,4], dtype=np.uint8)\n",
        "\n",
        "      result = hands.process(img)\n",
        "      hand_landmarks = result.multi_hand_landmarks\n",
        "\n",
        "      if hand_landmarks:\n",
        "          for handLMs in hand_landmarks:\n",
        "              h = 480\n",
        "              w = 640\n",
        "              padding = 20\n",
        "              # Initialize variables for bounding box coordinates\n",
        "              x_max = 0\n",
        "              y_max = 0\n",
        "              x_min = w\n",
        "              y_min = h\n",
        "\n",
        "              # Loop through each hand landmark\n",
        "              for lm in handLMs.landmark:\n",
        "                  x, y = int(lm.x * w), int(lm.y * h)\n",
        "\n",
        "                  # Update min and max coordinates\n",
        "                  if x > x_max:\n",
        "                      x_max = x\n",
        "                  if x < x_min:\n",
        "                      x_min = x\n",
        "                  if y > y_max:\n",
        "                      y_max = y\n",
        "                  if y < y_min:\n",
        "                      y_min = y\n",
        "\n",
        "                  x1 = x_min - 2 * padding\n",
        "                  y1 = y_min - padding\n",
        "                  x2 = x_max + 2 * padding\n",
        "                  y2 = y_max + padding\n",
        "                  coords = (x1, y1, x2, y2)\n",
        "\n",
        "              # Draw the bounding box\n",
        "              letter, conf = predict_gesture(img, coords, model, lb, clustering=False)\n",
        "              bbox_array = cv2.rectangle(bbox_array, (x1, y1), (x2, y2), (0, 255, 0), 2)\n",
        "              cv2.putText(bbox_array, f'{letter}: {conf:.2f}', (x1 + 10, y1 - 10), cv2.FONT_HERSHEY_SIMPLEX, 1, (0, 255, 0), 2, cv2.LINE_AA)\n",
        "      bbox_array[:,:,3] = (bbox_array.max(axis = 2) > 0 ).astype(int) * 255\n",
        "      # convert overlay of bbox into bytes\n",
        "      bbox_bytes = bbox_to_bytes(bbox_array)\n",
        "      # update bbox so next frame gets new overlay\n",
        "      bbox = bbox_bytes\n",
        "    except Exception as e:\n",
        "      continue"
      ],
      "metadata": {
        "colab": {
          "base_uri": "https://localhost:8080/",
          "height": 904
        },
        "id": "RkyIoILI9Wtb",
        "outputId": "64a082b7-93cb-474f-ae5e-f751fa51b1d9"
      },
      "execution_count": null,
      "outputs": [
        {
          "output_type": "display_data",
          "data": {
            "text/plain": [
              "<IPython.core.display.Javascript object>"
            ],
            "application/javascript": [
              "\n",
              "    var video;\n",
              "    var div = null;\n",
              "    var stream;\n",
              "    var captureCanvas;\n",
              "    var imgElement;\n",
              "    var labelElement;\n",
              "\n",
              "    var pendingResolve = null;\n",
              "    var shutdown = false;\n",
              "\n",
              "    function removeDom() {\n",
              "       stream.getVideoTracks()[0].stop();\n",
              "       video.remove();\n",
              "       div.remove();\n",
              "       video = null;\n",
              "       div = null;\n",
              "       stream = null;\n",
              "       imgElement = null;\n",
              "       captureCanvas = null;\n",
              "       labelElement = null;\n",
              "    }\n",
              "\n",
              "    function onAnimationFrame() {\n",
              "      if (!shutdown) {\n",
              "        window.requestAnimationFrame(onAnimationFrame);\n",
              "      }\n",
              "      if (pendingResolve) {\n",
              "        var result = \"\";\n",
              "        if (!shutdown) {\n",
              "          captureCanvas.getContext('2d').drawImage(video, 0, 0, 640, 480);\n",
              "          result = captureCanvas.toDataURL('image/jpeg', 0.8)\n",
              "        }\n",
              "        var lp = pendingResolve;\n",
              "        pendingResolve = null;\n",
              "        lp(result);\n",
              "      }\n",
              "    }\n",
              "\n",
              "    async function createDom() {\n",
              "      if (div !== null) {\n",
              "        return stream;\n",
              "      }\n",
              "\n",
              "      div = document.createElement('div');\n",
              "      div.style.border = '2px solid black';\n",
              "      div.style.padding = '3px';\n",
              "      div.style.width = '100%';\n",
              "      div.style.maxWidth = '600px';\n",
              "      document.body.appendChild(div);\n",
              "\n",
              "      const modelOut = document.createElement('div');\n",
              "      modelOut.innerHTML = \"<span>Status:</span>\";\n",
              "      labelElement = document.createElement('span');\n",
              "      labelElement.innerText = 'No data';\n",
              "      labelElement.style.fontWeight = 'bold';\n",
              "      modelOut.appendChild(labelElement);\n",
              "      div.appendChild(modelOut);\n",
              "\n",
              "      video = document.createElement('video');\n",
              "      video.style.display = 'block';\n",
              "      video.width = div.clientWidth - 6;\n",
              "      video.setAttribute('playsinline', '');\n",
              "      video.onclick = () => { shutdown = true; };\n",
              "      stream = await navigator.mediaDevices.getUserMedia(\n",
              "          {video: { facingMode: \"environment\"}});\n",
              "      div.appendChild(video);\n",
              "\n",
              "      imgElement = document.createElement('img');\n",
              "      imgElement.style.position = 'absolute';\n",
              "      imgElement.style.zIndex = 1;\n",
              "      imgElement.onclick = () => { shutdown = true; };\n",
              "      div.appendChild(imgElement);\n",
              "\n",
              "      const instruction = document.createElement('div');\n",
              "      instruction.innerHTML =\n",
              "          '<span style=\"color: red; font-weight: bold;\">' +\n",
              "          'When finished, click here or on the video to stop this demo</span>';\n",
              "      div.appendChild(instruction);\n",
              "      instruction.onclick = () => { shutdown = true; };\n",
              "\n",
              "      video.srcObject = stream;\n",
              "      await video.play();\n",
              "\n",
              "      captureCanvas = document.createElement('canvas');\n",
              "      captureCanvas.width = 640; //video.videoWidth;\n",
              "      captureCanvas.height = 480; //video.videoHeight;\n",
              "      window.requestAnimationFrame(onAnimationFrame);\n",
              "\n",
              "      return stream;\n",
              "    }\n",
              "    async function stream_frame(label, imgData) {\n",
              "      if (shutdown) {\n",
              "        removeDom();\n",
              "        shutdown = false;\n",
              "        return '';\n",
              "      }\n",
              "\n",
              "      var preCreate = Date.now();\n",
              "      stream = await createDom();\n",
              "\n",
              "      var preShow = Date.now();\n",
              "      if (label != \"\") {\n",
              "        labelElement.innerHTML = label;\n",
              "      }\n",
              "\n",
              "      if (imgData != \"\") {\n",
              "        var videoRect = video.getClientRects()[0];\n",
              "        imgElement.style.top = videoRect.top + \"px\";\n",
              "        imgElement.style.left = videoRect.left + \"px\";\n",
              "        imgElement.style.width = videoRect.width + \"px\";\n",
              "        imgElement.style.height = videoRect.height + \"px\";\n",
              "        imgElement.src = imgData;\n",
              "      }\n",
              "\n",
              "      var preCapture = Date.now();\n",
              "      var result = await new Promise(function(resolve, reject) {\n",
              "        pendingResolve = resolve;\n",
              "      });\n",
              "      shutdown = false;\n",
              "\n",
              "      return {'create': preShow - preCreate,\n",
              "              'show': preCapture - preShow,\n",
              "              'capture': Date.now() - preCapture,\n",
              "              'img': result};\n",
              "    }\n",
              "    "
            ]
          },
          "metadata": {}
        },
        {
          "output_type": "stream",
          "name": "stderr",
          "text": [
            "/usr/local/lib/python3.10/dist-packages/google/protobuf/symbol_database.py:55: UserWarning: SymbolDatabase.GetPrototype() is deprecated. Please use message_factory.GetMessageClass() instead. SymbolDatabase.GetPrototype() will be removed soon.\n",
            "  warnings.warn('SymbolDatabase.GetPrototype() is deprecated. Please '\n"
          ]
        },
        {
          "output_type": "error",
          "ename": "KeyboardInterrupt",
          "evalue": "",
          "traceback": [
            "\u001b[0;31m---------------------------------------------------------------------------\u001b[0m",
            "\u001b[0;31mKeyboardInterrupt\u001b[0m                         Traceback (most recent call last)",
            "\u001b[0;32m<ipython-input-71-f36bbccd0d78>\u001b[0m in \u001b[0;36m<cell line: 12>\u001b[0;34m()\u001b[0m\n\u001b[1;32m     12\u001b[0m \u001b[0;32mwhile\u001b[0m \u001b[0;32mTrue\u001b[0m\u001b[0;34m:\u001b[0m\u001b[0;34m\u001b[0m\u001b[0;34m\u001b[0m\u001b[0m\n\u001b[1;32m     13\u001b[0m     \u001b[0;32mtry\u001b[0m\u001b[0;34m:\u001b[0m\u001b[0;34m\u001b[0m\u001b[0;34m\u001b[0m\u001b[0m\n\u001b[0;32m---> 14\u001b[0;31m       \u001b[0mjs_reply\u001b[0m \u001b[0;34m=\u001b[0m \u001b[0mvideo_frame\u001b[0m\u001b[0;34m(\u001b[0m\u001b[0mlabel_html\u001b[0m\u001b[0;34m,\u001b[0m \u001b[0mbbox\u001b[0m\u001b[0;34m)\u001b[0m\u001b[0;34m\u001b[0m\u001b[0;34m\u001b[0m\u001b[0m\n\u001b[0m\u001b[1;32m     15\u001b[0m       \u001b[0;32mif\u001b[0m \u001b[0;32mnot\u001b[0m \u001b[0mjs_reply\u001b[0m\u001b[0;34m:\u001b[0m\u001b[0;34m\u001b[0m\u001b[0;34m\u001b[0m\u001b[0m\n\u001b[1;32m     16\u001b[0m           \u001b[0;32mbreak\u001b[0m\u001b[0;34m\u001b[0m\u001b[0;34m\u001b[0m\u001b[0m\n",
            "\u001b[0;32m<ipython-input-70-c6e789c41202>\u001b[0m in \u001b[0;36mvideo_frame\u001b[0;34m(label, bbox)\u001b[0m\n\u001b[1;32m    132\u001b[0m \u001b[0;34m\u001b[0m\u001b[0m\n\u001b[1;32m    133\u001b[0m \u001b[0;32mdef\u001b[0m \u001b[0mvideo_frame\u001b[0m\u001b[0;34m(\u001b[0m\u001b[0mlabel\u001b[0m\u001b[0;34m,\u001b[0m \u001b[0mbbox\u001b[0m\u001b[0;34m)\u001b[0m\u001b[0;34m:\u001b[0m\u001b[0;34m\u001b[0m\u001b[0;34m\u001b[0m\u001b[0m\n\u001b[0;32m--> 134\u001b[0;31m   \u001b[0mdata\u001b[0m \u001b[0;34m=\u001b[0m \u001b[0meval_js\u001b[0m\u001b[0;34m(\u001b[0m\u001b[0;34m'stream_frame(\"{}\", \"{}\")'\u001b[0m\u001b[0;34m.\u001b[0m\u001b[0mformat\u001b[0m\u001b[0;34m(\u001b[0m\u001b[0mlabel\u001b[0m\u001b[0;34m,\u001b[0m \u001b[0mbbox\u001b[0m\u001b[0;34m)\u001b[0m\u001b[0;34m)\u001b[0m\u001b[0;34m\u001b[0m\u001b[0;34m\u001b[0m\u001b[0m\n\u001b[0m\u001b[1;32m    135\u001b[0m   \u001b[0;32mreturn\u001b[0m \u001b[0mdata\u001b[0m\u001b[0;34m\u001b[0m\u001b[0;34m\u001b[0m\u001b[0m\n",
            "\u001b[0;32m/usr/local/lib/python3.10/dist-packages/google/colab/output/_js.py\u001b[0m in \u001b[0;36meval_js\u001b[0;34m(script, ignore_result, timeout_sec)\u001b[0m\n\u001b[1;32m     38\u001b[0m   \u001b[0;32mif\u001b[0m \u001b[0mignore_result\u001b[0m\u001b[0;34m:\u001b[0m\u001b[0;34m\u001b[0m\u001b[0;34m\u001b[0m\u001b[0m\n\u001b[1;32m     39\u001b[0m     \u001b[0;32mreturn\u001b[0m\u001b[0;34m\u001b[0m\u001b[0;34m\u001b[0m\u001b[0m\n\u001b[0;32m---> 40\u001b[0;31m   \u001b[0;32mreturn\u001b[0m \u001b[0m_message\u001b[0m\u001b[0;34m.\u001b[0m\u001b[0mread_reply_from_input\u001b[0m\u001b[0;34m(\u001b[0m\u001b[0mrequest_id\u001b[0m\u001b[0;34m,\u001b[0m \u001b[0mtimeout_sec\u001b[0m\u001b[0;34m)\u001b[0m\u001b[0;34m\u001b[0m\u001b[0;34m\u001b[0m\u001b[0m\n\u001b[0m\u001b[1;32m     41\u001b[0m \u001b[0;34m\u001b[0m\u001b[0m\n\u001b[1;32m     42\u001b[0m \u001b[0;34m\u001b[0m\u001b[0m\n",
            "\u001b[0;32m/usr/local/lib/python3.10/dist-packages/google/colab/_message.py\u001b[0m in \u001b[0;36mread_reply_from_input\u001b[0;34m(message_id, timeout_sec)\u001b[0m\n\u001b[1;32m     94\u001b[0m     \u001b[0mreply\u001b[0m \u001b[0;34m=\u001b[0m \u001b[0m_read_next_input_message\u001b[0m\u001b[0;34m(\u001b[0m\u001b[0;34m)\u001b[0m\u001b[0;34m\u001b[0m\u001b[0;34m\u001b[0m\u001b[0m\n\u001b[1;32m     95\u001b[0m     \u001b[0;32mif\u001b[0m \u001b[0mreply\u001b[0m \u001b[0;34m==\u001b[0m \u001b[0m_NOT_READY\u001b[0m \u001b[0;32mor\u001b[0m \u001b[0;32mnot\u001b[0m \u001b[0misinstance\u001b[0m\u001b[0;34m(\u001b[0m\u001b[0mreply\u001b[0m\u001b[0;34m,\u001b[0m \u001b[0mdict\u001b[0m\u001b[0;34m)\u001b[0m\u001b[0;34m:\u001b[0m\u001b[0;34m\u001b[0m\u001b[0;34m\u001b[0m\u001b[0m\n\u001b[0;32m---> 96\u001b[0;31m       \u001b[0mtime\u001b[0m\u001b[0;34m.\u001b[0m\u001b[0msleep\u001b[0m\u001b[0;34m(\u001b[0m\u001b[0;36m0.025\u001b[0m\u001b[0;34m)\u001b[0m\u001b[0;34m\u001b[0m\u001b[0;34m\u001b[0m\u001b[0m\n\u001b[0m\u001b[1;32m     97\u001b[0m       \u001b[0;32mcontinue\u001b[0m\u001b[0;34m\u001b[0m\u001b[0;34m\u001b[0m\u001b[0m\n\u001b[1;32m     98\u001b[0m     if (\n",
            "\u001b[0;31mKeyboardInterrupt\u001b[0m: "
          ]
        }
      ]
    }
  ]
}